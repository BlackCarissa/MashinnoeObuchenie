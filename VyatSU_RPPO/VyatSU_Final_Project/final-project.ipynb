{
 "cells": [
  {
   "cell_type": "markdown",
   "metadata": {},
   "source": [
    "#  Итоговый проект на тему «Анализ данных»\n",
    "## выполнил студент: Вихарев Илья Олегович (МКм-2301-51-00)"
   ]
  },
  {
   "cell_type": "markdown",
   "metadata": {},
   "source": [
    "## 1. Загрузка библиотек"
   ]
  },
  {
   "cell_type": "code",
   "execution_count": null,
   "metadata": {
    "_cell_guid": "b1076dfc-b9ad-4769-8c92-a6c4dae69d19",
    "_uuid": "8f2839f25d086af736a60e9eeb907d3b93b6e0e5",
    "execution": {
     "iopub.execute_input": "2023-08-14T12:54:21.622939Z",
     "iopub.status.busy": "2023-08-14T12:54:21.622491Z",
     "iopub.status.idle": "2023-08-14T12:54:21.650387Z",
     "shell.execute_reply": "2023-08-14T12:54:21.649549Z",
     "shell.execute_reply.started": "2023-08-14T12:54:21.622904Z"
    },
    "trusted": true
   },
   "outputs": [],
   "source": [
    "import numpy as np # Подключаем модуль линейной алгебры\n",
    "import pandas as pd # Подключаем обработку данных\n",
    "import matplotlib.pyplot as plt # Подключаем модуль визуализации\n",
    "from sklearn.preprocessing import LabelEncoder, StandardScaler"
   ]
  },
  {
   "cell_type": "markdown",
   "metadata": {},
   "source": [
    "## 2. Создание рабочей папки, загрузка датасета с Kaggle, распаковка zip. "
   ]
  },
  {
   "cell_type": "markdown",
   "metadata": {},
   "source": [
    "P.S Для проверки можно вручную скачать или воспользоваться скриптом ниже: https://www.kaggle.com/datasets/austinreese/craigslist-carstrucks-data"
   ]
  },
  {
   "cell_type": "code",
   "execution_count": null,
   "metadata": {},
   "outputs": [],
   "source": [
    "# Установить kagglehub если отсутствует. "
   ]
  },
  {
   "cell_type": "code",
   "execution_count": null,
   "metadata": {},
   "outputs": [],
   "source": [
    "pip install kagglehub[pandas-datasets]"
   ]
  },
  {
   "cell_type": "code",
   "execution_count": null,
   "metadata": {},
   "outputs": [],
   "source": [
    "import os  \n",
    "os.mkdir('VyatSU_Final_Project')  "
   ]
  },
  {
   "cell_type": "code",
   "execution_count": null,
   "metadata": {},
   "outputs": [],
   "source": [
    "\n",
    "path = os.getcwd() + '\\\\VyatSU_Final_Project\\\\vehicles'\n",
    "path"
   ]
  },
  {
   "cell_type": "code",
   "execution_count": null,
   "metadata": {},
   "outputs": [],
   "source": [
    "# Install dependencies as needed:\n",
    "# pip install kagglehub[pandas-datasets]\n",
    "import kagglehub\n",
    "from kagglehub import KaggleDatasetAdapter\n",
    "# Set the path to the file you'd like to load\n",
    "file_path = \"\"\n",
    "# Load the latest version\n",
    "path_dataset = kagglehub.dataset_download(\"austinreese/craigslist-carstrucks-data\")\n",
    "print(\"Path to dataset files:\", path_dataset+'\\\\vehicles.csv')"
   ]
  },
  {
   "cell_type": "code",
   "execution_count": null,
   "metadata": {},
   "outputs": [],
   "source": [
    "# перенести файлы с кеша в рабочую папку\n",
    "import os\n",
    "import shutil\n",
    "from pathlib import Path  \n",
    "# Установить целевой каталог  \n",
    "path = Path(path)\n",
    "path_dataset = Path(path_dataset)\n",
    "os.replace(path_dataset, path)"
   ]
  },
  {
   "cell_type": "markdown",
   "metadata": {},
   "source": [
    "##### Очистить кеш. (Можете вручную удалить кэш kaggle по вышеуказанному пути)"
   ]
  },
  {
   "cell_type": "code",
   "execution_count": null,
   "metadata": {},
   "outputs": [],
   "source": [
    "shutil.rmtree(path_dataset.parents[4]) "
   ]
  },
  {
   "cell_type": "markdown",
   "metadata": {},
   "source": [
    "## 3. Предварительная обработка данных, разведочный анализ EDA."
   ]
  },
  {
   "cell_type": "markdown",
   "metadata": {},
   "source": [
    "####"
   ]
  },
  {
   "cell_type": "code",
   "execution_count": null,
   "metadata": {},
   "outputs": [],
   "source": [
    "df = pd.read_csv('vehicles//vehicles.csv')\n",
    "df = df.sample(frac=1).reset_index(drop=True)\n",
    "df.head(10)"
   ]
  },
  {
   "cell_type": "markdown",
   "metadata": {},
   "source": [
    "#### Посмотрим размерность датасета и его столбцы"
   ]
  },
  {
   "cell_type": "code",
   "execution_count": null,
   "metadata": {},
   "outputs": [],
   "source": [
    "print(df.shape)\n",
    "print(df.columns)"
   ]
  },
  {
   "cell_type": "code",
   "execution_count": null,
   "metadata": {},
   "outputs": [],
   "source": [
    "print(df.info())"
   ]
  },
  {
   "cell_type": "markdown",
   "metadata": {},
   "source": [
    "В датафрейме 19 столбцов имеют тип object, 5 столбцов имеют тип float64, 2 столбца int64\n",
    "\n",
    "1. id: уникальное id объявления \n",
    "1. url: ссылка на объявление (не работает)           \n",
    "1. region: регион продажи авто (город/штат США)        \n",
    "1. region_url: ссылка на объявление (не работает)      \n",
    "1. price: цена в долларах     \n",
    "1. year: год выпуска автомобиля     \n",
    "1. manufacturer: марка авто (завод-изготовитель)\n",
    "1. model: модель авто         \n",
    "1. condition: состояние авто     \n",
    "1. cylinders: кол-во цилиндров     \n",
    "1. fuel: тип потребляемого топлива          \n",
    "1. odometer: пробег      \n",
    "1. title_status: юридический статус авто в страховой компании\n",
    "1. transmission: тип КПП\n",
    "1. VIN: вин-номер авто           \n",
    "1. drive: тип привода     \n",
    "1. size:  размер авто (по американской классификации https://housegrail.com/types-of-car-sizes-explained)  \n",
    "1. type:  тип авто     \n",
    "1. paint_color: цвет авто   \n",
    "1. image_url: ссылка на фото авто (не работает)    \n",
    "1. description: описание   \n",
    "1. county: страна (Null, что очевидно, так как это всё американские объявления)     \n",
    "1. state: штат США        \n",
    "1. lat: ширина (координаты)           \n",
    "1. long: долгота (координаты)          \n",
    "1. posting_date: дата размещения поста"
   ]
  },
  {
   "cell_type": "markdown",
   "metadata": {},
   "source": [
    "### 3.1 Удаление ненужных столбцов, удаление строк с Null"
   ]
  },
  {
   "cell_type": "code",
   "execution_count": null,
   "metadata": {
    "execution": {
     "iopub.execute_input": "2023-08-14T12:54:21.757820Z",
     "iopub.status.busy": "2023-08-14T12:54:21.757012Z",
     "iopub.status.idle": "2023-08-14T12:54:21.778415Z",
     "shell.execute_reply": "2023-08-14T12:54:21.777556Z",
     "shell.execute_reply.started": "2023-08-14T12:54:21.757777Z"
    },
    "trusted": true
   },
   "outputs": [],
   "source": [
    "#Удаляем ненужные нам столбцы\n",
    "df = df.drop(\"id\", axis=1)\n",
    "df = df.drop(\"region\", axis=1)\n",
    "df = df.drop(\"state\", axis=1)\n",
    "df = df.drop(\"model\", axis=1)\n",
    "df = df.drop(\"url\", axis=1)\n",
    "df = df.drop(\"region_url\", axis=1)\n",
    "df = df.drop(\"image_url\", axis=1)\n",
    "df = df.drop(\"description\", axis=1)\n",
    "df = df.drop(\"county\", axis=1)\n",
    "df = df.drop(\"posting_date\", axis=1)\n",
    "df = df.drop(\"VIN\", axis=1)\n",
    "df = df.drop(\"lat\", axis=1)\n",
    "df = df.drop(\"long\", axis=1)\n",
    "df = df.drop(\"title_status\", axis=1)\n",
    "df = df.drop(\"size\", axis=1)\n"
   ]
  },
  {
   "cell_type": "code",
   "execution_count": null,
   "metadata": {},
   "outputs": [],
   "source": [
    "# Удалим строки с пустыми значениями (Смысла нет заполнять пустые значения. Нам вполне хватит количества записей для анализа и обучения модели)\n",
    "df = df.dropna()"
   ]
  },
  {
   "cell_type": "code",
   "execution_count": null,
   "metadata": {},
   "outputs": [],
   "source": [
    "print(df.info())"
   ]
  },
  {
   "cell_type": "markdown",
   "metadata": {},
   "source": [
    "### 3.2 Рассмотрим уникальные значения и перекодируем категориальные данные в численные. "
   ]
  },
  {
   "cell_type": "markdown",
   "metadata": {},
   "source": [
    "Подсчитаем количество уникальных значений в столбцах и создадим таблицу замен значений"
   ]
  },
  {
   "cell_type": "code",
   "execution_count": null,
   "metadata": {},
   "outputs": [],
   "source": [
    "\n",
    "def get_unique(df: pd.DataFrame, stolbec: str):\n",
    "    \"\"\"\n",
    "    Возвращает список замен и кол-во уникальных элементов в столбце\n",
    "    \"\"\"\n",
    "    df_uniques = pd.melt(\n",
    "        frame=df,\n",
    "        value_vars=[stolbec],\n",
    "    )\n",
    "    df_uniques = (\n",
    "        pd.DataFrame(df_uniques.groupby([\"variable\", \"value\"])[\"value\"].count())\n",
    "        .sort_index(level=[0, 1])\n",
    "        .rename(columns={\"value\": \"count\"})\n",
    "        .reset_index()\n",
    "    )\n",
    "    return df_uniques\n",
    " \n",
    "     \n",
    "              \n",
    "manufacturer_unique = get_unique(df,\"manufacturer\")                    \n",
    "condition_unique = get_unique(df,\"condition\")           \n",
    "cylinders_unique = get_unique(df,\"cylinders\")           \n",
    "fuel_unique = get_unique(df,\"fuel\")                           \n",
    "transmission_unique = get_unique(df,\"transmission\")                        \n",
    "drive_unique = get_unique(df,\"drive\")               \n",
    "type_unique = get_unique(df,\"type\")                \n",
    "paint_color_unique = get_unique(df,\"paint_color\")       \n",
    "\n",
    "         \n",
    "    \n",
    "\n"
   ]
  },
  {
   "cell_type": "code",
   "execution_count": null,
   "metadata": {},
   "outputs": [],
   "source": [
    "manufacturer_unique"
   ]
  },
  {
   "cell_type": "code",
   "execution_count": null,
   "metadata": {},
   "outputs": [],
   "source": [
    "condition_unique"
   ]
  },
  {
   "cell_type": "code",
   "execution_count": null,
   "metadata": {},
   "outputs": [],
   "source": [
    "cylinders_unique"
   ]
  },
  {
   "cell_type": "code",
   "execution_count": null,
   "metadata": {},
   "outputs": [],
   "source": [
    "fuel_unique"
   ]
  },
  {
   "cell_type": "code",
   "execution_count": null,
   "metadata": {},
   "outputs": [],
   "source": [
    "transmission_unique"
   ]
  },
  {
   "cell_type": "code",
   "execution_count": null,
   "metadata": {},
   "outputs": [],
   "source": [
    "drive_unique"
   ]
  },
  {
   "cell_type": "code",
   "execution_count": null,
   "metadata": {},
   "outputs": [],
   "source": [
    "type_unique "
   ]
  },
  {
   "cell_type": "code",
   "execution_count": null,
   "metadata": {},
   "outputs": [],
   "source": [
    "paint_color_unique"
   ]
  },
  {
   "cell_type": "markdown",
   "metadata": {},
   "source": [
    "Переход к числовым данным"
   ]
  },
  {
   "cell_type": "code",
   "execution_count": null,
   "metadata": {},
   "outputs": [],
   "source": [
    "# Словари для перехода к числовым данным\n",
    "condition_dict = {'excellent': 8, 'fair': 6, 'good': 7, 'like new': 9, 'new': 10, 'salvage': 5}\n",
    "cylinders_dict = {'10 cylinders': 10, '12 cylinders': 12, '3 cylinders': 3, '4 cylinders': 4, '5 cylinders': 5, '6 cylinders': 6, '8 cylinders': 8, 'other': 1}\n",
    "\n",
    "# Выполняем замену в столбцах\n",
    "               \n",
    "df.condition = df.condition.apply(lambda x : condition_dict[x])           \n",
    "df.cylinders = df.cylinders.apply(lambda x : cylinders_dict[x])       \n",
    "\n",
    "df.head()"
   ]
  },
  {
   "cell_type": "code",
   "execution_count": null,
   "metadata": {},
   "outputs": [],
   "source": [
    "\n",
    "## Encoding categorical features\n",
    "categorical_columns = [\"type\",\"paint_color\",\"fuel\",\"transmission\",\"drive\"]\n",
    "for col in categorical_columns:\n",
    "    if col in df.columns:\n",
    "        le = LabelEncoder()\n",
    "        le.fit(list(df[col].astype(str).values))\n",
    "        df[col] = le.transform(list(df[col].astype(str).values))\n",
    "df['year'] = (df['year']).astype(int)\n",
    "df['odometer'] = df['odometer'].astype(int)\n",
    "df.head(10)"
   ]
  },
  {
   "cell_type": "markdown",
   "metadata": {},
   "source": [
    "### 3.3 Рассмотрим статистические данные через describe и удалим шум в данных. "
   ]
  },
  {
   "cell_type": "markdown",
   "metadata": {},
   "source": [
    "Метод describe показывает основные статистические характеристики каждого числового признака (типы int64 и float64): количество значений, не являющихся пропущенными, среднее значение, стандартное отклонение, диапазон, медиана, квартили 0,25 и 0,75."
   ]
  },
  {
   "cell_type": "code",
   "execution_count": null,
   "metadata": {},
   "outputs": [],
   "source": [
    "df.describe()"
   ]
  },
  {
   "cell_type": "markdown",
   "metadata": {},
   "source": [
    "Рассмотрим гистограммы для price, odometer, year"
   ]
  },
  {
   "cell_type": "code",
   "execution_count": null,
   "metadata": {},
   "outputs": [],
   "source": [
    "df_price = df[df['price'] < 30000]\n",
    "df_price = df_price[df_price['price'] > 5000]"
   ]
  },
  {
   "cell_type": "code",
   "execution_count": null,
   "metadata": {},
   "outputs": [],
   "source": [
    "df_odometer = df[df['odometer'] < 300000]\n",
    "df_odometer['odometer'].hist(figsize=(10, 4));"
   ]
  },
  {
   "cell_type": "code",
   "execution_count": null,
   "metadata": {},
   "outputs": [],
   "source": [
    "df_price['price'].hist(figsize=(10, 4));"
   ]
  },
  {
   "cell_type": "code",
   "execution_count": null,
   "metadata": {},
   "outputs": [],
   "source": [
    "df['odometer'].hist(figsize=(10, 4));"
   ]
  },
  {
   "cell_type": "markdown",
   "metadata": {},
   "source": [
    "По гистограммам и describe видим, что в цене и пробеге есть нулевые значения. В некоторых объявлениях специально выставлена неадекватно большая цена или пробег. Из-за этого гистограмма цены и пробега выглядит неправильно. Это нужно исправить, выбрав порог цены от 1000$ до 40000$"
   ]
  },
  {
   "cell_type": "code",
   "execution_count": null,
   "metadata": {},
   "outputs": [],
   "source": [
    "df['year'].hist(figsize=(10, 4));"
   ]
  },
  {
   "cell_type": "markdown",
   "metadata": {},
   "source": [
    "Также мы видим, что некоторые авто 1905 года выпуска. Возьмем все авто от 2000-го года, поскольку там наибольшее кол-во авто. "
   ]
  },
  {
   "cell_type": "code",
   "execution_count": null,
   "metadata": {},
   "outputs": [],
   "source": [
    "price_unique = get_unique(df,\"price\")  \n",
    "price_unique"
   ]
  },
  {
   "cell_type": "code",
   "execution_count": null,
   "metadata": {},
   "outputs": [],
   "source": [
    "year_unique = get_unique(df,\"year\")  \n",
    "year_unique"
   ]
  },
  {
   "cell_type": "markdown",
   "metadata": {},
   "source": [
    "Исправим датасет, согласно нашим замечаниям"
   ]
  },
  {
   "cell_type": "code",
   "execution_count": null,
   "metadata": {},
   "outputs": [],
   "source": [
    "df = df[df['price'] > 1000]\n",
    "df = df[df['price'] < 40000]\n",
    "df['odometer'] = df['odometer']\n",
    "\n",
    "df['odometer'] = df['odometer']//5000\n",
    "df = df[df['odometer'] < 50]\n",
    "df = df[df['year'] > 2000]"
   ]
  },
  {
   "cell_type": "code",
   "execution_count": null,
   "metadata": {},
   "outputs": [],
   "source": [
    "df.info()"
   ]
  },
  {
   "cell_type": "code",
   "execution_count": null,
   "metadata": {},
   "outputs": [],
   "source": [
    "import seaborn as sns\n",
    "df_uniques = pd.melt(\n",
    "    frame=df,\n",
    "    value_vars=[\"condition\",\"cylinders\",\"fuel\",\"transmission\",\"drive\",\"type\",\"paint_color\"],\n",
    ")\n",
    "df_uniques = (\n",
    "    pd.DataFrame(df_uniques.groupby([\"variable\", \"value\"])[\"value\"].count())\n",
    "    .sort_index(level=[0, 1])\n",
    "    .rename(columns={\"value\": \"count\"})\n",
    "    .reset_index()\n",
    ")\n",
    "\n",
    "sns.catplot(\n",
    "    x=\"variable\", y=\"count\", hue=\"value\", data=df_uniques, kind=\"bar\"\n",
    ")\n",
    "plt.xticks(rotation='vertical');"
   ]
  },
  {
   "cell_type": "markdown",
   "metadata": {},
   "source": [
    "Снова посмотрим на гистограммы"
   ]
  },
  {
   "cell_type": "code",
   "execution_count": null,
   "metadata": {},
   "outputs": [],
   "source": [
    "df['price'].hist(figsize=(10, 4));"
   ]
  },
  {
   "cell_type": "code",
   "execution_count": null,
   "metadata": {},
   "outputs": [],
   "source": [
    "df['odometer'].hist(figsize=(10, 4));"
   ]
  },
  {
   "cell_type": "code",
   "execution_count": null,
   "metadata": {},
   "outputs": [],
   "source": [
    "df['year'].hist(figsize=(10, 4));"
   ]
  },
  {
   "cell_type": "markdown",
   "metadata": {},
   "source": [
    "### 4. Исследовательский анализ данных"
   ]
  },
  {
   "cell_type": "markdown",
   "metadata": {},
   "source": [
    "Посмотрим средние цены по маркам авто:"
   ]
  },
  {
   "cell_type": "code",
   "execution_count": null,
   "metadata": {},
   "outputs": [],
   "source": [
    "# Должность (job_title)\n",
    "manufacturers = df.manufacturer.unique().tolist()\n",
    "manufacturers.sort() # Для удобства отсортируем по алфавиту\n",
    "print(manufacturers)\n",
    "len(manufacturers) # Подсчитаем их количество\n",
    "# Посчитаем средние цены по маркам авто\n",
    "n = len(manufacturers) \n",
    "mean_salaries = np.zeros(n)\n",
    "for i in range(0,n):\n",
    "    position = manufacturers[i] #текущая должность\n",
    "    df_tmp = df[df['manufacturer'] == position] # выбираем соотвествующие записи \n",
    "    mean_salaries[i] = df_tmp['price'].mean() # считаем среднее значение\n",
    "# Визуализируем уровень зарплат в зависимости от должности\n",
    "fig = plt.figure(figsize=(8, 10))\n",
    "plt.rc('font', size = 8 ) \n",
    "plt.barh(manufacturers, mean_salaries)\n",
    "plt.show()"
   ]
  },
  {
   "cell_type": "markdown",
   "metadata": {},
   "source": [
    "Наибольшую среднюю цену имеют Alfa-Romeo, Tesla, Dodge Ram, GMC, Porsche, что вполне очевидно. Alfa-Romeo - импортный итальянский автомобиль премиум сегмента. Tesla - дорогостоящий электрокар. Dodge RAM - популярный у американцев пикап, как и GMC - универсальные рабочие лошадки, но цены рознятся в зависимости от мотора и комплектации. Porsche давно зарекомендовал себя как наилучшее и наиболее качественное немецкое спортивное авто на американском рынке, пусть и за большую цену. "
   ]
  },
  {
   "cell_type": "markdown",
   "metadata": {},
   "source": [
    "Посмотрим наиболее дешевую и дорогую марку"
   ]
  },
  {
   "cell_type": "code",
   "execution_count": null,
   "metadata": {},
   "outputs": [],
   "source": [
    "\n",
    "max_salary = mean_salaries.max()\n",
    "min_salary = mean_salaries.min()\n",
    "\n",
    "max_ind = (mean_salaries.tolist()).index(max_salary)\n",
    "print(\"Максимальная стоймость у\", manufacturers[max_ind])\n",
    "min_ind = (mean_salaries.tolist()).index(min_salary)\n",
    "print(\"Минимальная стоймость у\", manufacturers[min_ind])"
   ]
  },
  {
   "attachments": {
    "image.png": {
     "image/png": "[encoded data removed]"
    }
   },
   "cell_type": "markdown",
   "metadata": {},
   "source": [
    "Довольно очевидно, что mercury имеет минимальную стоймость.  Данная марка авто не выпускается с 2011-го и имеет крайне сомнительную репутацию из-за того, что новые модели являются перелицензированными копиями автомобилей компании Ford и Mazda и не отличаются особой надежностью. Тем более, если смотреть данные продаж от дилеров Mercury, компания была в глубоком кризисе. \n",
    "(https://en.wikipedia.org/wiki/Mercury_(automobile))\n",
    "\n",
    "![image.png](attachment:image.png)"
   ]
  },
  {
   "cell_type": "markdown",
   "metadata": {},
   "source": [
    "Теперь заменим марки авто на численные данные, вместо категориальных. "
   ]
  },
  {
   "cell_type": "code",
   "execution_count": null,
   "metadata": {},
   "outputs": [],
   "source": [
    "\n",
    "# Encoding categorical features\n",
    "categorical_columns = [\"manufacturer\"]\n",
    "for col in categorical_columns:\n",
    "    if col in df.columns:\n",
    "        le = LabelEncoder()\n",
    "        le.fit(list(df[col].astype(str).values))\n",
    "        df[col] = le.transform(list(df[col].astype(str).values))\n",
    "df['year'] = (df['year']).astype(int)\n",
    "df['odometer'] = df['odometer'].astype(int)\n",
    "df.head(10)"
   ]
  },
  {
   "cell_type": "markdown",
   "metadata": {},
   "source": [
    "Посчитаем коэффициенты корреляции для всего датафрейма, округлим значение до сотых.\n",
    "Выведем полученную корреляционную матрицу."
   ]
  },
  {
   "cell_type": "code",
   "execution_count": null,
   "metadata": {
    "execution": {
     "iopub.execute_input": "2023-08-14T12:54:21.931013Z",
     "iopub.status.busy": "2023-08-14T12:54:21.930697Z",
     "iopub.status.idle": "2023-08-14T12:54:21.953955Z",
     "shell.execute_reply": "2023-08-14T12:54:21.952873Z",
     "shell.execute_reply.started": "2023-08-14T12:54:21.930983Z"
    },
    "trusted": true
   },
   "outputs": [],
   "source": [
    "corr_matrix = df.corr().round(2)\n",
    "corr_matrix"
   ]
  },
  {
   "cell_type": "code",
   "execution_count": null,
   "metadata": {},
   "outputs": [],
   "source": [
    "from sklearn.discriminant_analysis import LinearDiscriminantAnalysis as LDA\n",
    "lda = LDA(n_components=2)\n",
    "X = df.iloc[:,1:].values\n",
    "y = df.iloc[:,0].values\n",
    "X_train_lda = lda.fit_transform(X,y)"
   ]
  },
  {
   "cell_type": "code",
   "execution_count": null,
   "metadata": {
    "execution": {
     "iopub.execute_input": "2023-08-14T12:54:21.955648Z",
     "iopub.status.busy": "2023-08-14T12:54:21.955284Z",
     "iopub.status.idle": "2023-08-14T12:54:23.125435Z",
     "shell.execute_reply": "2023-08-14T12:54:23.124320Z",
     "shell.execute_reply.started": "2023-08-14T12:54:21.955618Z"
    },
    "trusted": true
   },
   "outputs": [],
   "source": [
    "import seaborn as sns\n",
    "fig, ax = plt.subplots(figsize=(9, 6))\n",
    "sns.heatmap(corr_matrix, cmap=\"coolwarm\", annot=True)\n",
    "plt.show()"
   ]
  },
  {
   "cell_type": "code",
   "execution_count": null,
   "metadata": {},
   "outputs": [],
   "source": [
    "df = df.drop('manufacturer',axis=1)\n",
    "df = df.drop('condition',axis=1)\n",
    "df = df.drop('fuel',axis=1)\n",
    "df = df.drop('drive',axis=1)\n",
    "df = df.drop('type',axis=1)\n",
    "df = df.drop('paint_color',axis=1)"
   ]
  },
  {
   "cell_type": "markdown",
   "metadata": {},
   "source": [
    "Для интереса, можно посмотреть матрицу корреляции и заметить, что, например, тип КПП на 16% зависит от типа авто, что вполне правдиво. Трансмиссия зависит от года выпуска - с развитием автомобилестроения все чаще стали применять автоматическую и роботизированную КПП, поскольку это удобно. Очевидно, что пробег и год взаимосвязаны. Топливо на 13% зависит от года и от типа трансмиссии, что тоже вполне очевидно, если вспомнить про топливный кризис США в 1970-х и массовый переход американских автомобилестроителей с V6 и V8 на R4 (рядные четверки) с передним приводом, вместо заднего, ради экономии топлива. Тогда же на рынке стали массово появлятся дешевые экономичные импортные авто (Toyota). Но, по всей видимости, тенденция не так сильно сохранилась.  "
   ]
  },
  {
   "cell_type": "markdown",
   "metadata": {},
   "source": [
    "Посмотрим графики цилиндров и трансмиссии. Правда ли, что американцы любят V8? Правда ли, что люди стали массово переходить на автоматическую КПП? "
   ]
  },
  {
   "cell_type": "code",
   "execution_count": null,
   "metadata": {},
   "outputs": [],
   "source": [
    "features = [\"cylinders\", \"transmission\"]\n",
    "df[features].hist(figsize=(10, 4));"
   ]
  },
  {
   "cell_type": "code",
   "execution_count": null,
   "metadata": {},
   "outputs": [],
   "source": [
    "fuel_unique"
   ]
  },
  {
   "cell_type": "code",
   "execution_count": null,
   "metadata": {},
   "outputs": [],
   "source": [
    "cylinders_unique"
   ]
  },
  {
   "cell_type": "code",
   "execution_count": null,
   "metadata": {},
   "outputs": [],
   "source": [
    "transmission_unique"
   ]
  },
  {
   "cell_type": "markdown",
   "metadata": {},
   "source": [
    "Отчасти, правда, что американцы любят авто помощнее (6 или 8 цилиндров), но есть и приверженцы малолитражных рядных четверок. Что печально, американцы стали переходить на автоматическую коробку передач, судя по количеству объявлений. "
   ]
  },
  {
   "cell_type": "markdown",
   "metadata": {},
   "source": [
    "## 4. Задача регресии. Прогнозирование цены на автомобиль"
   ]
  },
  {
   "cell_type": "markdown",
   "metadata": {},
   "source": [
    "#### Решение задачи через линейную регрессию"
   ]
  },
  {
   "cell_type": "code",
   "execution_count": null,
   "metadata": {},
   "outputs": [],
   "source": [
    "sc = StandardScaler()\n",
    "df_scaled = pd.DataFrame(sc.fit_transform(df))\n",
    "df_scaled.describe()"
   ]
  },
  {
   "cell_type": "code",
   "execution_count": null,
   "metadata": {},
   "outputs": [],
   "source": [
    "\n",
    "from sklearn.model_selection import train_test_split\n",
    "from sklearn.preprocessing import StandardScaler\n",
    "\n",
    "from sklearn.linear_model import LinearRegression\n",
    "from sklearn.pipeline import make_pipeline\n",
    "from sklearn.model_selection import train_test_split\n",
    "from sklearn.metrics import mean_squared_error,r2_score\n",
    "\n",
    "X = df_scaled.iloc[:,1:].values\n",
    "y = df.iloc[:,0].values\n",
    "X_train, X_test, y_train, y_test = train_test_split(X,y, test_size=0.2, random_state=42,shuffle=True) \n",
    "# размерность обучающей выборки \n",
    "print(X_train.shape, y_train.shape) \n",
    "# размерность тестовой выборки \n",
    "print(X_test.shape, y_test.shape) \n",
    "pipe_lr = make_pipeline(StandardScaler(),LinearRegression())\n",
    "pipe_lr.fit(X_train, y_train)\n",
    "y_train_pred  =  pipe_lr.predict(X_train) \n",
    "y_test_pred  =  pipe_lr.predict(X_test)\n",
    "test_acc = mean_squared_error(y_test_pred,y_test)**0.5\n",
    "print ( f' Root Mean Squared Error (RMSE):  {test_acc:.3f} ')\n",
    "print('R2:', np.round(r2_score(y_test, y_test_pred), 2))"
   ]
  },
  {
   "cell_type": "code",
   "execution_count": null,
   "metadata": {},
   "outputs": [],
   "source": [
    "# Визуализация предсказаний\n",
    "order = np.argsort(y_test)\n",
    "y_test_ordered = y_test[order]\n",
    "y_pred_ordered = y_test_pred[order]\n",
    "order = np.argsort(y_train)\n",
    "y_train_ordered = y_train[order]\n",
    "y_tr_pred_ordered = y_train_pred[order]\n",
    "\n",
    "plt.figure(figsize=(10, 8))\n",
    "plt.scatter(y_test_ordered, y_pred_ordered, label=\"Linear Regression\")\n",
    "plt.plot(y_test_ordered, y_test_ordered, label=\"True values\", color=\"red\")\n",
    "\n",
    "plt.legend()\n",
    "\n",
    "plt.xlabel(\"True values\")\n",
    "plt.ylabel(\"Predicted values\")\n",
    "x_max = np.max([np.max(y_train_pred), np.max(y_test_pred)])\n",
    "x_min = np.min([np.min(y_train_pred), np.min(y_test_pred)])\n",
    "fig, (ax1, ax2)  =  plt.subplots ( 1, 2, figsize=(7, 3), sharey=True)\n",
    "ax1.scatter(y_test_ordered, y_pred_ordered - y_test_ordered, label='Тестовые данные')\n",
    "ax2.scatter(y_train_ordered, y_tr_pred_ordered - y_train_ordered, label='Обучающие данные')\n",
    "ax1.set_ylabel('Остатки')\n",
    "ax2.set_ylabel('Остатки')\n",
    "for ax in (ax1, ax2):\n",
    "    ax.set_xlabel('Прогнозируемые значения')\n",
    "    ax.legend(loc='upper left')\n",
    "    ax.hlines(y=0, xmin=x_min, xmax=x_max, \\\n",
    "               color='black', lw=2)\n",
    "plt.tight_layout()\n",
    "plt.show()"
   ]
  },
  {
   "cell_type": "code",
   "execution_count": null,
   "metadata": {},
   "outputs": [],
   "source": [
    "from sklearn.metrics import confusion_matrix, f1_score\n",
    "from sklearn.model_selection import cross_val_score\n",
    "pipe_lr = make_pipeline(StandardScaler(),LinearRegression())\n",
    "print('Оценка кросс-валидации на двадцати выборках: \\n', cross_val_score(pipe_lr, X, y, cv=20, scoring='r2'))"
   ]
  },
  {
   "cell_type": "markdown",
   "metadata": {},
   "source": [
    "Решение квадратичной регрессией "
   ]
  },
  {
   "cell_type": "code",
   "execution_count": null,
   "metadata": {},
   "outputs": [],
   "source": [
    "from sklearn.preprocessing import PolynomialFeatures\n",
    "from sklearn.linear_model import LinearRegression\n",
    "from sklearn.metrics import mean_squared_error, r2_score\n",
    "\n",
    "# Обучение модели\n",
    "poly_reg_pipeline = make_pipeline(\n",
    "    StandardScaler(),\n",
    "    PolynomialFeatures(degree=2, include_bias=False), # include_bias=False, т.к. LinearRegression добавит свой\n",
    "    LinearRegression()\n",
    ")\n",
    "\n",
    "poly_reg_pipeline.fit(X_train, y_train)\n",
    "\n",
    "# Прогнозирование\n",
    "y_train_pred  =  poly_reg_pipeline.predict(X_train) \n",
    "y_test_pred  =  poly_reg_pipeline.predict(X_test)\n",
    "\n",
    "\n",
    "# Оценка модели\n",
    "test_acc = mean_squared_error(y_test_pred,y_test)**0.5\n",
    "print ( f' Root Mean Squared Error (RMSE):  {test_acc:.3f} ')\n",
    "print('R2:', np.round(r2_score(y_test, y_test_pred), 2))"
   ]
  },
  {
   "cell_type": "code",
   "execution_count": null,
   "metadata": {},
   "outputs": [],
   "source": [
    "# Визуализация предсказаний\n",
    "order = np.argsort(y_test)\n",
    "y_test_ordered = y_test[order]\n",
    "y_pred_ordered = y_test_pred[order]\n",
    "order = np.argsort(y_train)\n",
    "y_train_ordered = y_train[order]\n",
    "y_tr_pred_ordered = y_train_pred[order]\n",
    "\n",
    "plt.figure(figsize=(10, 8))\n",
    "plt.scatter(y_test_ordered, y_pred_ordered, label=\"Linear Regression\")\n",
    "plt.plot(y_test_ordered, y_test_ordered, label=\"True values\", color=\"red\")\n",
    "\n",
    "plt.legend()\n",
    "\n",
    "plt.xlabel(\"True values\")\n",
    "plt.ylabel(\"Predicted values\")\n",
    "x_max = np.max([np.max(y_train_pred), np.max(y_test_pred)])\n",
    "x_min = np.min([np.min(y_train_pred), np.min(y_test_pred)])\n",
    "fig, (ax1, ax2)  =  plt.subplots ( 1, 2, figsize=(7, 3), sharey=True)\n",
    "ax1.scatter(y_test_ordered, y_pred_ordered - y_test_ordered, label='Тестовые данные')\n",
    "ax2.scatter(y_train_ordered, y_tr_pred_ordered - y_train_ordered, label='Обучающие данные')\n",
    "ax1.set_ylabel('Остатки')\n",
    "ax2.set_ylabel('Остатки')\n",
    "for ax in (ax1, ax2):\n",
    "    ax.set_xlabel('Прогнозируемые значения')\n",
    "    ax.legend(loc='upper left')\n",
    "    ax.hlines(y=0, xmin=x_min, xmax=x_max, \\\n",
    "               color='black', lw=2)\n",
    "plt.tight_layout()\n",
    "plt.show()"
   ]
  },
  {
   "cell_type": "code",
   "execution_count": null,
   "metadata": {},
   "outputs": [],
   "source": [
    "from sklearn.metrics import confusion_matrix, f1_score\n",
    "from sklearn.model_selection import cross_val_score\n",
    "poly_reg_pipeline = make_pipeline(\n",
    "    StandardScaler(),\n",
    "    PolynomialFeatures(degree=2, include_bias=False), # include_bias=False, т.к. LinearRegression добавит свой\n",
    "    LinearRegression()\n",
    ")\n",
    "print('Оценка кросс-валидации на двадцати выборках: \\n', cross_val_score(poly_reg_pipeline, X, y, cv=20, scoring='r2'))"
   ]
  },
  {
   "cell_type": "markdown",
   "metadata": {},
   "source": [
    "#### Решение задачи через деревья"
   ]
  },
  {
   "cell_type": "code",
   "execution_count": null,
   "metadata": {},
   "outputs": [],
   "source": [
    "from sklearn.tree import DecisionTreeRegressor\n",
    "tree_model = DecisionTreeRegressor()\n",
    "tree_model.fit(X_train, y_train)\n",
    "# Прогнозирование\n",
    "y_train_pred  =  tree_model.predict(X_train) \n",
    "y_test_pred  =  tree_model.predict(X_test)\n",
    "\n",
    "\n",
    "# Оценка модели\n",
    "test_acc = mean_squared_error(y_test_pred,y_test)**0.5\n",
    "print ( f' Root Mean Squared Error (RMSE):  {test_acc:.3f} ')\n",
    "print('R2:', np.round(r2_score(y_test, y_test_pred), 2))\n",
    "\n"
   ]
  },
  {
   "cell_type": "code",
   "execution_count": null,
   "metadata": {},
   "outputs": [],
   "source": [
    "# Визуализация предсказаний\n",
    "order = np.argsort(y_test)\n",
    "y_test_ordered = y_test[order]\n",
    "y_pred_ordered = y_test_pred[order]\n",
    "order = np.argsort(y_train)\n",
    "y_train_ordered = y_train[order]\n",
    "y_tr_pred_ordered = y_train_pred[order]\n",
    "\n",
    "plt.figure(figsize=(10, 8))\n",
    "plt.scatter(y_test_ordered, y_pred_ordered, label=\"Linear Regression\")\n",
    "plt.plot(y_test_ordered, y_test_ordered, label=\"True values\", color=\"red\")\n",
    "\n",
    "plt.legend()\n",
    "\n",
    "plt.xlabel(\"True values\")\n",
    "plt.ylabel(\"Predicted values\")\n",
    "x_max = np.max([np.max(y_train_pred), np.max(y_test_pred)])\n",
    "x_min = np.min([np.min(y_train_pred), np.min(y_test_pred)])\n",
    "fig, (ax1, ax2)  =  plt.subplots ( 1, 2, figsize=(7, 3), sharey=True)\n",
    "ax1.scatter(y_test_ordered, y_pred_ordered - y_test_ordered, label='Тестовые данные')\n",
    "ax2.scatter(y_train_ordered, y_tr_pred_ordered - y_train_ordered, label='Обучающие данные')\n",
    "ax1.set_ylabel('Остатки')\n",
    "ax2.set_ylabel('Остатки')\n",
    "for ax in (ax1, ax2):\n",
    "    ax.set_xlabel('Прогнозируемые значения')\n",
    "    ax.legend(loc='upper left')\n",
    "    ax.hlines(y=0, xmin=x_min, xmax=x_max, \\\n",
    "               color='black', lw=2)\n",
    "plt.tight_layout()\n",
    "plt.show()"
   ]
  },
  {
   "cell_type": "code",
   "execution_count": null,
   "metadata": {},
   "outputs": [],
   "source": [
    "from sklearn.metrics import confusion_matrix, f1_score\n",
    "from sklearn.model_selection import cross_val_score\n",
    "tree_model = DecisionTreeRegressor()\n",
    "print('Оценка кросс-валидации на двадцати выборках: \\n', cross_val_score(tree_model, X, y, cv=20, scoring='r2'))"
   ]
  },
  {
   "cell_type": "markdown",
   "metadata": {},
   "source": [
    "#### Метод k-ближайших соседей"
   ]
  },
  {
   "cell_type": "code",
   "execution_count": null,
   "metadata": {
    "execution": {
     "iopub.execute_input": "2023-08-14T12:54:25.338761Z",
     "iopub.status.busy": "2023-08-14T12:54:25.338241Z",
     "iopub.status.idle": "2023-08-14T12:54:25.474331Z",
     "shell.execute_reply": "2023-08-14T12:54:25.473341Z",
     "shell.execute_reply.started": "2023-08-14T12:54:25.338726Z"
    },
    "trusted": true
   },
   "outputs": [],
   "source": [
    "# из библиотеки sklearn импортируем регрессию по методу k-ближайших соседей \n",
    "from sklearn.neighbors import KNeighborsRegressor\n",
    "\n",
    "model2 = KNeighborsRegressor()\n",
    "# обучим новую модель\n",
    "model2.fit(X_train, y_train)\n",
    "# Прогнозирование\n",
    "y_train_pred  =  model2.predict(X_train) \n",
    "y_test_pred  =  model2.predict(X_test)\n",
    "\n",
    "\n",
    "# Оценка модели\n",
    "test_acc = mean_squared_error(y_test_pred,y_test)**0.5\n",
    "print ( f' Root Mean Squared Error (RMSE):  {test_acc:.3f} ')\n",
    "print('R2:', np.round(r2_score(y_test, y_test_pred), 2))"
   ]
  },
  {
   "cell_type": "code",
   "execution_count": null,
   "metadata": {
    "execution": {
     "iopub.execute_input": "2023-08-14T12:54:25.500646Z",
     "iopub.status.busy": "2023-08-14T12:54:25.500286Z",
     "iopub.status.idle": "2023-08-14T12:54:25.976841Z",
     "shell.execute_reply": "2023-08-14T12:54:25.975573Z",
     "shell.execute_reply.started": "2023-08-14T12:54:25.500617Z"
    },
    "trusted": true
   },
   "outputs": [],
   "source": [
    "# Визуализация предсказаний\n",
    "order = np.argsort(y_test)\n",
    "y_test_ordered = y_test[order]\n",
    "y_pred_ordered = y_test_pred[order]\n",
    "order = np.argsort(y_train)\n",
    "y_train_ordered = y_train[order]\n",
    "y_tr_pred_ordered = y_train_pred[order]\n",
    "\n",
    "plt.figure(figsize=(10, 8))\n",
    "plt.scatter(y_test_ordered, y_pred_ordered, label=\"Linear Regression\")\n",
    "plt.plot(y_test_ordered, y_test_ordered, label=\"True values\", color=\"red\")\n",
    "\n",
    "plt.legend()\n",
    "\n",
    "plt.xlabel(\"True values\")\n",
    "plt.ylabel(\"Predicted values\")\n",
    "x_max = np.max([np.max(y_train_pred), np.max(y_test_pred)])\n",
    "x_min = np.min([np.min(y_train_pred), np.min(y_test_pred)])\n",
    "fig, (ax1, ax2)  =  plt.subplots ( 1, 2, figsize=(7, 3), sharey=True)\n",
    "ax1.scatter(y_test_ordered, y_pred_ordered - y_test_ordered, label='Тестовые данные')\n",
    "ax2.scatter(y_train_ordered, y_tr_pred_ordered - y_train_ordered, label='Обучающие данные')\n",
    "ax1.set_ylabel('Остатки')\n",
    "ax2.set_ylabel('Остатки')\n",
    "for ax in (ax1, ax2):\n",
    "    ax.set_xlabel('Прогнозируемые значения')\n",
    "    ax.legend(loc='upper left')\n",
    "    ax.hlines(y=0, xmin=x_min, xmax=x_max, \\\n",
    "               color='black', lw=2)\n",
    "plt.tight_layout()\n",
    "plt.show()"
   ]
  },
  {
   "cell_type": "code",
   "execution_count": null,
   "metadata": {},
   "outputs": [],
   "source": [
    "from sklearn.metrics import confusion_matrix, f1_score\n",
    "from sklearn.model_selection import cross_val_score\n",
    "knn = KNeighborsRegressor()\n",
    "print('Оценка кросс-валидации на двадцати выборках: \\n', cross_val_score(knn, X, y, cv=20, scoring='r2'))"
   ]
  }
 ],
 "metadata": {
  "kernelspec": {
   "display_name": "Python 3",
   "language": "python",
   "name": "python3"
  },
  "language_info": {
   "codemirror_mode": {
    "name": "ipython",
    "version": 3
   },
   "file_extension": ".py",
   "mimetype": "text/x-python",
   "name": "python",
   "nbconvert_exporter": "python",
   "pygments_lexer": "ipython3",
   "version": "3.13.2"
  }
 },
 "nbformat": 4,
 "nbformat_minor": 4
}
