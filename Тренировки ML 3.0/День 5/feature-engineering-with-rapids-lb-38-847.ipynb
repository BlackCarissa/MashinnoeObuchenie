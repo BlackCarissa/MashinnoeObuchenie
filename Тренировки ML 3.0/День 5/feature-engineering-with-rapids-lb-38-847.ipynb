{
 "cells": [
  {
   "cell_type": "markdown",
   "id": "7a4c3eb9",
   "metadata": {
    "papermill": {
     "duration": 0.004624,
     "end_time": "2025-02-18T03:56:15.199169",
     "exception": false,
     "start_time": "2025-02-18T03:56:15.194545",
     "status": "completed"
    },
    "tags": []
   },
   "source": [
    "# Feature Engineering with Fast cuDF-Pandas!\n",
    "One of the most powerful feature engineering techniques is `groupby(COL1)[COL2].agg(STAT)`. This is where we group by `COL1` column and aggregate (i.e. compute) a statistic `STAT` over another column `COL2`. This is the underlying method to compute `target encoding` and `count encoding`. By computing raw statistics and inputting them into our model, our model can do more than only receiving `TE` or `CE`. This notebook illustrates creating 50 engineered features, but we can create hundreds more and improve CV score and LB score!\n",
    "\n",
    "When our dataset has millions of rows like Kaggle's Backpack competition, then `groupby` operations take time to compute. The fastest way to compute a `groupby` aggregation is to use GPU with [RAPIDS cuDF-Pandas][1] library.\n",
    "\n",
    "There are two ways to use [RAPIDS cuDF][2]. We can write cuDF code which looks just like Pandas code and starts with `import cudf`. Or we can write normal Pandas code with `import pandas` but before that we add the cell magic command `%load_ext cudf.pandas`. By adding this magic command all calls to Pandas afterward will use [RAPIDS cuDF][2] behind the scenes taking advantage of the massive speed boost of GPU!\n",
    "\n",
    "Alternatively, we can use [cuDF-Polars][3]. To use [cuDF-Polars][3], we write Polars code with lazy frame. Then the final call includes `.collect(engine=\"gpu\")` which will run all previous Polars code behind the scenes with [RAPIDS cuDF][2].\n",
    "\n",
    "[1]: https://rapids.ai/cudf-pandas/\n",
    "[2]: https://docs.rapids.ai/install/\n",
    "[3]: https://rapids.ai/polars-gpu-engine/"
   ]
  },
  {
   "cell_type": "markdown",
   "id": "5fb25eed",
   "metadata": {
    "papermill": {
     "duration": 0.003922,
     "end_time": "2025-02-18T03:56:15.207324",
     "exception": false,
     "start_time": "2025-02-18T03:56:15.203402",
     "status": "completed"
    },
    "tags": []
   },
   "source": [
    "# RAPIDS v25.02\n",
    "[RAPIDS v25.02][1] was just released Feb 15, 2025! Instructions on installing RAPIDS is [here][1]. On Kaggle, the easiest way to pip install new libraries is to do it once in a `Utility Script` notebook. Then whenever we attach the `Utility Script` notebook to another Kaggle notebook, the second Kaggle notebook immediately gets the benefit of the pip installed libraries. We created a [RAPIDS 25.02][1] `Utility Script` [here][2], and we attach it to the notebook you are reading. Therefore the notebook you are reading can import RAPIDS v25.02 without needing to pip install!\n",
    "\n",
    "[1]: https://docs.rapids.ai/install/\n",
    "[2]: https://www.kaggle.com/code/cdeotte/rapids-cudf-25-02-cuml-25-02"
   ]
  },
  {
   "cell_type": "markdown",
   "id": "f059dc54",
   "metadata": {
    "papermill": {
     "duration": 0.003961,
     "end_time": "2025-02-18T03:56:15.215271",
     "exception": false,
     "start_time": "2025-02-18T03:56:15.211310",
     "status": "completed"
    },
    "tags": []
   },
   "source": [
    "# GPU Acceleration\n",
    "We activate [cuDF-Pandas][1] with the magic command `%load_ext cudf.pandas` below. Afterward, all calls to Pandas will use fast GPU [RAPIDS cuDF][2] behind the scenes! Since we attached `Utility Script` notebook [here][3] to the notebook you are reading, we will be using the new [RAPIDS v25.02][2]!\n",
    "\n",
    "[1]: https://rapids.ai/cudf-pandas/\n",
    "[2]: https://docs.rapids.ai/install/\n",
    "[3]: https://www.kaggle.com/code/cdeotte/rapids-cudf-25-02-cuml-25-02"
   ]
  },
  {
   "cell_type": "code",
   "execution_count": 1,
   "id": "5fa3db06",
   "metadata": {
    "execution": {
     "iopub.execute_input": "2025-02-18T03:56:15.224880Z",
     "iopub.status.busy": "2025-02-18T03:56:15.224609Z",
     "iopub.status.idle": "2025-02-18T03:56:42.745165Z",
     "shell.execute_reply": "2025-02-18T03:56:42.744478Z"
    },
    "papermill": {
     "duration": 27.526745,
     "end_time": "2025-02-18T03:56:42.746788",
     "exception": false,
     "start_time": "2025-02-18T03:56:15.220043",
     "status": "completed"
    },
    "tags": []
   },
   "outputs": [],
   "source": [
    "\n",
    "import numpy as np, pandas as pd\n",
    "import matplotlib.pyplot as plt\n",
    "pd.set_option('display.max_columns', 500)\n",
    "\n",
    "VER=1"
   ]
  },
  {
   "cell_type": "markdown",
   "id": "09494743",
   "metadata": {
    "papermill": {
     "duration": 0.00392,
     "end_time": "2025-02-18T03:56:42.755166",
     "exception": false,
     "start_time": "2025-02-18T03:56:42.751246",
     "status": "completed"
    },
    "tags": []
   },
   "source": [
    "# Load Data\n",
    "We load train, train extra, and test data. The combined train data has 4 million rows! This means we do not need to fear overfitting train. We can make hundreds/thousands of new features and every time our CV improves our LB will improve too!"
   ]
  },
  {
   "cell_type": "code",
   "execution_count": 2,
   "id": "af0f6eba",
   "metadata": {
    "execution": {
     "iopub.execute_input": "2025-02-18T03:56:42.764054Z",
     "iopub.status.busy": "2025-02-18T03:56:42.763528Z",
     "iopub.status.idle": "2025-02-18T03:56:43.471303Z",
     "shell.execute_reply": "2025-02-18T03:56:43.470426Z"
    },
    "papermill": {
     "duration": 0.713777,
     "end_time": "2025-02-18T03:56:43.472809",
     "exception": false,
     "start_time": "2025-02-18T03:56:42.759032",
     "status": "completed"
    },
    "tags": []
   },
   "outputs": [
    {
     "name": "stdout",
     "output_type": "stream",
     "text": [
      "Train shape (1288, 17)\n"
     ]
    },
    {
     "data": {
      "text/html": [
       "<div>\n",
       "<style scoped>\n",
       "    .dataframe tbody tr th:only-of-type {\n",
       "        vertical-align: middle;\n",
       "    }\n",
       "\n",
       "    .dataframe tbody tr th {\n",
       "        vertical-align: top;\n",
       "    }\n",
       "\n",
       "    .dataframe thead th {\n",
       "        text-align: right;\n",
       "    }\n",
       "</style>\n",
       "<table border=\"1\" class=\"dataframe\">\n",
       "  <thead>\n",
       "    <tr style=\"text-align: right;\">\n",
       "      <th></th>\n",
       "      <th>area</th>\n",
       "      <th>perimeter</th>\n",
       "      <th>major_axis</th>\n",
       "      <th>minor_axis</th>\n",
       "      <th>eccentricity</th>\n",
       "      <th>eqdiasq</th>\n",
       "      <th>solidity</th>\n",
       "      <th>convex_area</th>\n",
       "      <th>extent</th>\n",
       "      <th>aspect_ratio</th>\n",
       "      <th>roundness</th>\n",
       "      <th>compactness</th>\n",
       "      <th>shapefactor_1</th>\n",
       "      <th>shapefactor_2</th>\n",
       "      <th>shapefactor_3</th>\n",
       "      <th>shapefactor_4</th>\n",
       "      <th>target</th>\n",
       "    </tr>\n",
       "  </thead>\n",
       "  <tbody>\n",
       "    <tr>\n",
       "      <th>0</th>\n",
       "      <td>75516</td>\n",
       "      <td>1731.4840</td>\n",
       "      <td>411.7352</td>\n",
       "      <td>245.7620</td>\n",
       "      <td>0.8023</td>\n",
       "      <td>310.0806</td>\n",
       "      <td>0.9148</td>\n",
       "      <td>82546</td>\n",
       "      <td>0.7169</td>\n",
       "      <td>1.6753</td>\n",
       "      <td>0.3165</td>\n",
       "      <td>0.7531</td>\n",
       "      <td>0.0055</td>\n",
       "      <td>0.0033</td>\n",
       "      <td>0.5672</td>\n",
       "      <td>0.9502</td>\n",
       "      <td>1</td>\n",
       "    </tr>\n",
       "    <tr>\n",
       "      <th>1</th>\n",
       "      <td>98903</td>\n",
       "      <td>1374.4370</td>\n",
       "      <td>477.2451</td>\n",
       "      <td>269.7676</td>\n",
       "      <td>0.8249</td>\n",
       "      <td>354.8622</td>\n",
       "      <td>0.9585</td>\n",
       "      <td>103181</td>\n",
       "      <td>0.7679</td>\n",
       "      <td>1.7691</td>\n",
       "      <td>0.6579</td>\n",
       "      <td>0.7436</td>\n",
       "      <td>0.0048</td>\n",
       "      <td>0.0027</td>\n",
       "      <td>0.5529</td>\n",
       "      <td>0.9781</td>\n",
       "      <td>0</td>\n",
       "    </tr>\n",
       "    <tr>\n",
       "      <th>2</th>\n",
       "      <td>84746</td>\n",
       "      <td>1311.1570</td>\n",
       "      <td>482.7735</td>\n",
       "      <td>235.9040</td>\n",
       "      <td>0.8725</td>\n",
       "      <td>328.4843</td>\n",
       "      <td>0.9121</td>\n",
       "      <td>92914</td>\n",
       "      <td>0.7162</td>\n",
       "      <td>2.0465</td>\n",
       "      <td>0.6195</td>\n",
       "      <td>0.6804</td>\n",
       "      <td>0.0057</td>\n",
       "      <td>0.0028</td>\n",
       "      <td>0.4630</td>\n",
       "      <td>0.9474</td>\n",
       "      <td>1</td>\n",
       "    </tr>\n",
       "    <tr>\n",
       "      <th>3</th>\n",
       "      <td>98184</td>\n",
       "      <td>1463.1680</td>\n",
       "      <td>434.3769</td>\n",
       "      <td>292.6472</td>\n",
       "      <td>0.7390</td>\n",
       "      <td>353.5700</td>\n",
       "      <td>0.9543</td>\n",
       "      <td>102890</td>\n",
       "      <td>0.7316</td>\n",
       "      <td>1.4843</td>\n",
       "      <td>0.5763</td>\n",
       "      <td>0.8140</td>\n",
       "      <td>0.0044</td>\n",
       "      <td>0.0030</td>\n",
       "      <td>0.6625</td>\n",
       "      <td>0.9834</td>\n",
       "      <td>0</td>\n",
       "    </tr>\n",
       "    <tr>\n",
       "      <th>4</th>\n",
       "      <td>94170</td>\n",
       "      <td>1267.7271</td>\n",
       "      <td>440.1109</td>\n",
       "      <td>278.4162</td>\n",
       "      <td>0.7745</td>\n",
       "      <td>346.2672</td>\n",
       "      <td>0.9643</td>\n",
       "      <td>97656</td>\n",
       "      <td>0.6836</td>\n",
       "      <td>1.5808</td>\n",
       "      <td>0.7363</td>\n",
       "      <td>0.7868</td>\n",
       "      <td>0.0047</td>\n",
       "      <td>0.0030</td>\n",
       "      <td>0.6190</td>\n",
       "      <td>0.9785</td>\n",
       "      <td>0</td>\n",
       "    </tr>\n",
       "  </tbody>\n",
       "</table>\n",
       "</div>"
      ],
      "text/plain": [
       "    area  perimeter  major_axis  minor_axis  eccentricity   eqdiasq  solidity  \\\n",
       "0  75516  1731.4840    411.7352    245.7620        0.8023  310.0806    0.9148   \n",
       "1  98903  1374.4370    477.2451    269.7676        0.8249  354.8622    0.9585   \n",
       "2  84746  1311.1570    482.7735    235.9040        0.8725  328.4843    0.9121   \n",
       "3  98184  1463.1680    434.3769    292.6472        0.7390  353.5700    0.9543   \n",
       "4  94170  1267.7271    440.1109    278.4162        0.7745  346.2672    0.9643   \n",
       "\n",
       "   convex_area  extent  aspect_ratio  roundness  compactness  shapefactor_1  \\\n",
       "0        82546  0.7169        1.6753     0.3165       0.7531         0.0055   \n",
       "1       103181  0.7679        1.7691     0.6579       0.7436         0.0048   \n",
       "2        92914  0.7162        2.0465     0.6195       0.6804         0.0057   \n",
       "3       102890  0.7316        1.4843     0.5763       0.8140         0.0044   \n",
       "4        97656  0.6836        1.5808     0.7363       0.7868         0.0047   \n",
       "\n",
       "   shapefactor_2  shapefactor_3  shapefactor_4  target  \n",
       "0         0.0033         0.5672         0.9502       1  \n",
       "1         0.0027         0.5529         0.9781       0  \n",
       "2         0.0028         0.4630         0.9474       1  \n",
       "3         0.0030         0.6625         0.9834       0  \n",
       "4         0.0030         0.6190         0.9785       0  "
      ]
     },
     "execution_count": 2,
     "metadata": {},
     "output_type": "execute_result"
    }
   ],
   "source": [
    "data = pd.read_csv(\"train.csv\")\n",
    "print(\"Train shape\", data.shape )\n",
    "data.head()"
   ]
  },
  {
   "cell_type": "code",
   "execution_count": 3,
   "id": "74631b42",
   "metadata": {
    "execution": {
     "iopub.execute_input": "2025-02-18T03:56:43.483024Z",
     "iopub.status.busy": "2025-02-18T03:56:43.482789Z",
     "iopub.status.idle": "2025-02-18T03:56:44.905090Z",
     "shell.execute_reply": "2025-02-18T03:56:44.904213Z"
    },
    "papermill": {
     "duration": 1.428967,
     "end_time": "2025-02-18T03:56:44.906519",
     "exception": false,
     "start_time": "2025-02-18T03:56:43.477552",
     "status": "completed"
    },
    "tags": []
   },
   "outputs": [
    {
     "name": "stdout",
     "output_type": "stream",
     "text": [
      "Extra Train shape (387, 17)\n"
     ]
    },
    {
     "data": {
      "text/html": [
       "<div>\n",
       "<style scoped>\n",
       "    .dataframe tbody tr th:only-of-type {\n",
       "        vertical-align: middle;\n",
       "    }\n",
       "\n",
       "    .dataframe tbody tr th {\n",
       "        vertical-align: top;\n",
       "    }\n",
       "\n",
       "    .dataframe thead th {\n",
       "        text-align: right;\n",
       "    }\n",
       "</style>\n",
       "<table border=\"1\" class=\"dataframe\">\n",
       "  <thead>\n",
       "    <tr style=\"text-align: right;\">\n",
       "      <th></th>\n",
       "      <th>area</th>\n",
       "      <th>perimeter</th>\n",
       "      <th>major_axis</th>\n",
       "      <th>minor_axis</th>\n",
       "      <th>eccentricity</th>\n",
       "      <th>eqdiasq</th>\n",
       "      <th>solidity</th>\n",
       "      <th>convex_area</th>\n",
       "      <th>extent</th>\n",
       "      <th>aspect_ratio</th>\n",
       "      <th>roundness</th>\n",
       "      <th>compactness</th>\n",
       "      <th>shapefactor_1</th>\n",
       "      <th>shapefactor_2</th>\n",
       "      <th>shapefactor_3</th>\n",
       "      <th>shapefactor_4</th>\n",
       "      <th>target</th>\n",
       "    </tr>\n",
       "  </thead>\n",
       "  <tbody>\n",
       "    <tr>\n",
       "      <th>536</th>\n",
       "      <td>82463</td>\n",
       "      <td>2182.4021</td>\n",
       "      <td>444.5504</td>\n",
       "      <td>282.1806</td>\n",
       "      <td>0.7727</td>\n",
       "      <td>324.0295</td>\n",
       "      <td>0.8725</td>\n",
       "      <td>94513</td>\n",
       "      <td>0.6909</td>\n",
       "      <td>1.5754</td>\n",
       "      <td>0.2176</td>\n",
       "      <td>0.7289</td>\n",
       "      <td>0.0054</td>\n",
       "      <td>0.0034</td>\n",
       "      <td>0.5313</td>\n",
       "      <td>0.8370</td>\n",
       "      <td>0</td>\n",
       "    </tr>\n",
       "    <tr>\n",
       "      <th>699</th>\n",
       "      <td>68113</td>\n",
       "      <td>1826.5710</td>\n",
       "      <td>436.8805</td>\n",
       "      <td>215.2481</td>\n",
       "      <td>0.8702</td>\n",
       "      <td>294.4897</td>\n",
       "      <td>0.9100</td>\n",
       "      <td>74852</td>\n",
       "      <td>0.6598</td>\n",
       "      <td>2.0297</td>\n",
       "      <td>0.2565</td>\n",
       "      <td>0.6741</td>\n",
       "      <td>0.0064</td>\n",
       "      <td>0.0032</td>\n",
       "      <td>0.4544</td>\n",
       "      <td>0.9222</td>\n",
       "      <td>1</td>\n",
       "    </tr>\n",
       "    <tr>\n",
       "      <th>374</th>\n",
       "      <td>78094</td>\n",
       "      <td>1268.4580</td>\n",
       "      <td>446.7252</td>\n",
       "      <td>225.9483</td>\n",
       "      <td>0.8627</td>\n",
       "      <td>315.3290</td>\n",
       "      <td>0.9691</td>\n",
       "      <td>80585</td>\n",
       "      <td>0.7611</td>\n",
       "      <td>1.9771</td>\n",
       "      <td>0.6099</td>\n",
       "      <td>0.7059</td>\n",
       "      <td>0.0057</td>\n",
       "      <td>0.0029</td>\n",
       "      <td>0.4982</td>\n",
       "      <td>0.9851</td>\n",
       "      <td>1</td>\n",
       "    </tr>\n",
       "    <tr>\n",
       "      <th>915</th>\n",
       "      <td>87827</td>\n",
       "      <td>1204.8390</td>\n",
       "      <td>451.4225</td>\n",
       "      <td>257.9102</td>\n",
       "      <td>0.8207</td>\n",
       "      <td>334.4022</td>\n",
       "      <td>0.9469</td>\n",
       "      <td>92754</td>\n",
       "      <td>0.7119</td>\n",
       "      <td>1.7503</td>\n",
       "      <td>0.7603</td>\n",
       "      <td>0.7408</td>\n",
       "      <td>0.0051</td>\n",
       "      <td>0.0029</td>\n",
       "      <td>0.5487</td>\n",
       "      <td>0.9605</td>\n",
       "      <td>0</td>\n",
       "    </tr>\n",
       "    <tr>\n",
       "      <th>52</th>\n",
       "      <td>73027</td>\n",
       "      <td>1128.6600</td>\n",
       "      <td>437.4580</td>\n",
       "      <td>235.1980</td>\n",
       "      <td>0.8432</td>\n",
       "      <td>304.9276</td>\n",
       "      <td>0.9009</td>\n",
       "      <td>81059</td>\n",
       "      <td>0.7306</td>\n",
       "      <td>1.8600</td>\n",
       "      <td>0.7204</td>\n",
       "      <td>0.6970</td>\n",
       "      <td>0.0060</td>\n",
       "      <td>0.0032</td>\n",
       "      <td>0.4859</td>\n",
       "      <td>0.9037</td>\n",
       "      <td>0</td>\n",
       "    </tr>\n",
       "  </tbody>\n",
       "</table>\n",
       "</div>"
      ],
      "text/plain": [
       "      area  perimeter  major_axis  minor_axis  eccentricity   eqdiasq  \\\n",
       "536  82463  2182.4021    444.5504    282.1806        0.7727  324.0295   \n",
       "699  68113  1826.5710    436.8805    215.2481        0.8702  294.4897   \n",
       "374  78094  1268.4580    446.7252    225.9483        0.8627  315.3290   \n",
       "915  87827  1204.8390    451.4225    257.9102        0.8207  334.4022   \n",
       "52   73027  1128.6600    437.4580    235.1980        0.8432  304.9276   \n",
       "\n",
       "     solidity  convex_area  extent  aspect_ratio  roundness  compactness  \\\n",
       "536    0.8725        94513  0.6909        1.5754     0.2176       0.7289   \n",
       "699    0.9100        74852  0.6598        2.0297     0.2565       0.6741   \n",
       "374    0.9691        80585  0.7611        1.9771     0.6099       0.7059   \n",
       "915    0.9469        92754  0.7119        1.7503     0.7603       0.7408   \n",
       "52     0.9009        81059  0.7306        1.8600     0.7204       0.6970   \n",
       "\n",
       "     shapefactor_1  shapefactor_2  shapefactor_3  shapefactor_4  target  \n",
       "536         0.0054         0.0034         0.5313         0.8370       0  \n",
       "699         0.0064         0.0032         0.4544         0.9222       1  \n",
       "374         0.0057         0.0029         0.4982         0.9851       1  \n",
       "915         0.0051         0.0029         0.5487         0.9605       0  \n",
       "52          0.0060         0.0032         0.4859         0.9037       0  "
      ]
     },
     "execution_count": 3,
     "metadata": {},
     "output_type": "execute_result"
    }
   ],
   "source": [
    "from sklearn.model_selection import train_test_split\n",
    "train, train2 = train_test_split(data, test_size=0.3)\n",
    "print(\"Extra Train shape\", train2.shape )\n",
    "train2.head()"
   ]
  },
  {
   "cell_type": "code",
   "execution_count": 4,
   "id": "26056ffa",
   "metadata": {
    "execution": {
     "iopub.execute_input": "2025-02-18T03:56:44.917085Z",
     "iopub.status.busy": "2025-02-18T03:56:44.916875Z",
     "iopub.status.idle": "2025-02-18T03:56:44.981753Z",
     "shell.execute_reply": "2025-02-18T03:56:44.980943Z"
    },
    "papermill": {
     "duration": 0.071419,
     "end_time": "2025-02-18T03:56:44.982989",
     "exception": false,
     "start_time": "2025-02-18T03:56:44.911570",
     "status": "completed"
    },
    "tags": []
   },
   "outputs": [
    {
     "name": "stdout",
     "output_type": "stream",
     "text": [
      "Combined Train shape (1288, 17)\n"
     ]
    }
   ],
   "source": [
    "train = pd.concat([train,train2],axis=0,ignore_index=True)\n",
    "print(\"Combined Train shape\", train.shape)"
   ]
  },
  {
   "cell_type": "code",
   "execution_count": 5,
   "id": "76401493",
   "metadata": {
    "execution": {
     "iopub.execute_input": "2025-02-18T03:56:44.992936Z",
     "iopub.status.busy": "2025-02-18T03:56:44.992700Z",
     "iopub.status.idle": "2025-02-18T03:56:45.142715Z",
     "shell.execute_reply": "2025-02-18T03:56:45.141888Z"
    },
    "papermill": {
     "duration": 0.15638,
     "end_time": "2025-02-18T03:56:45.144021",
     "exception": false,
     "start_time": "2025-02-18T03:56:44.987641",
     "status": "completed"
    },
    "tags": []
   },
   "outputs": [
    {
     "name": "stdout",
     "output_type": "stream",
     "text": [
      "Test shape (430, 16)\n"
     ]
    },
    {
     "data": {
      "text/html": [
       "<div>\n",
       "<style scoped>\n",
       "    .dataframe tbody tr th:only-of-type {\n",
       "        vertical-align: middle;\n",
       "    }\n",
       "\n",
       "    .dataframe tbody tr th {\n",
       "        vertical-align: top;\n",
       "    }\n",
       "\n",
       "    .dataframe thead th {\n",
       "        text-align: right;\n",
       "    }\n",
       "</style>\n",
       "<table border=\"1\" class=\"dataframe\">\n",
       "  <thead>\n",
       "    <tr style=\"text-align: right;\">\n",
       "      <th></th>\n",
       "      <th>area</th>\n",
       "      <th>perimeter</th>\n",
       "      <th>major_axis</th>\n",
       "      <th>minor_axis</th>\n",
       "      <th>eccentricity</th>\n",
       "      <th>eqdiasq</th>\n",
       "      <th>solidity</th>\n",
       "      <th>convex_area</th>\n",
       "      <th>extent</th>\n",
       "      <th>aspect_ratio</th>\n",
       "      <th>roundness</th>\n",
       "      <th>compactness</th>\n",
       "      <th>shapefactor_1</th>\n",
       "      <th>shapefactor_2</th>\n",
       "      <th>shapefactor_3</th>\n",
       "      <th>shapefactor_4</th>\n",
       "    </tr>\n",
       "  </thead>\n",
       "  <tbody>\n",
       "    <tr>\n",
       "      <th>0</th>\n",
       "      <td>93313</td>\n",
       "      <td>1862.7260</td>\n",
       "      <td>447.1666</td>\n",
       "      <td>278.4893</td>\n",
       "      <td>0.7824</td>\n",
       "      <td>344.6880</td>\n",
       "      <td>0.9361</td>\n",
       "      <td>99678</td>\n",
       "      <td>0.7607</td>\n",
       "      <td>1.6057</td>\n",
       "      <td>0.3380</td>\n",
       "      <td>0.7708</td>\n",
       "      <td>0.0048</td>\n",
       "      <td>0.0030</td>\n",
       "      <td>0.5942</td>\n",
       "      <td>0.9541</td>\n",
       "    </tr>\n",
       "    <tr>\n",
       "      <th>1</th>\n",
       "      <td>78778</td>\n",
       "      <td>2159.5969</td>\n",
       "      <td>439.1004</td>\n",
       "      <td>240.0113</td>\n",
       "      <td>0.8374</td>\n",
       "      <td>316.7069</td>\n",
       "      <td>0.9340</td>\n",
       "      <td>84345</td>\n",
       "      <td>0.7265</td>\n",
       "      <td>1.8295</td>\n",
       "      <td>0.2123</td>\n",
       "      <td>0.7213</td>\n",
       "      <td>0.0056</td>\n",
       "      <td>0.0030</td>\n",
       "      <td>0.5202</td>\n",
       "      <td>0.9517</td>\n",
       "    </tr>\n",
       "    <tr>\n",
       "      <th>2</th>\n",
       "      <td>74757</td>\n",
       "      <td>1661.6720</td>\n",
       "      <td>441.6910</td>\n",
       "      <td>225.3914</td>\n",
       "      <td>0.8600</td>\n",
       "      <td>308.5183</td>\n",
       "      <td>0.9359</td>\n",
       "      <td>79873</td>\n",
       "      <td>0.7255</td>\n",
       "      <td>1.9597</td>\n",
       "      <td>0.3402</td>\n",
       "      <td>0.6985</td>\n",
       "      <td>0.0059</td>\n",
       "      <td>0.0030</td>\n",
       "      <td>0.4879</td>\n",
       "      <td>0.9561</td>\n",
       "    </tr>\n",
       "    <tr>\n",
       "      <th>3</th>\n",
       "      <td>88074</td>\n",
       "      <td>2199.8889</td>\n",
       "      <td>460.8836</td>\n",
       "      <td>283.3717</td>\n",
       "      <td>0.7886</td>\n",
       "      <td>334.8721</td>\n",
       "      <td>0.8709</td>\n",
       "      <td>101133</td>\n",
       "      <td>0.6922</td>\n",
       "      <td>1.6264</td>\n",
       "      <td>0.2287</td>\n",
       "      <td>0.7266</td>\n",
       "      <td>0.0052</td>\n",
       "      <td>0.0032</td>\n",
       "      <td>0.5279</td>\n",
       "      <td>0.8586</td>\n",
       "    </tr>\n",
       "    <tr>\n",
       "      <th>4</th>\n",
       "      <td>79318</td>\n",
       "      <td>2589.4900</td>\n",
       "      <td>429.3032</td>\n",
       "      <td>279.5817</td>\n",
       "      <td>0.7589</td>\n",
       "      <td>317.7905</td>\n",
       "      <td>0.8666</td>\n",
       "      <td>91528</td>\n",
       "      <td>0.6634</td>\n",
       "      <td>1.5355</td>\n",
       "      <td>0.1486</td>\n",
       "      <td>0.7402</td>\n",
       "      <td>0.0054</td>\n",
       "      <td>0.0035</td>\n",
       "      <td>0.5480</td>\n",
       "      <td>0.8414</td>\n",
       "    </tr>\n",
       "  </tbody>\n",
       "</table>\n",
       "</div>"
      ],
      "text/plain": [
       "    area  perimeter  major_axis  minor_axis  eccentricity   eqdiasq  solidity  \\\n",
       "0  93313  1862.7260    447.1666    278.4893        0.7824  344.6880    0.9361   \n",
       "1  78778  2159.5969    439.1004    240.0113        0.8374  316.7069    0.9340   \n",
       "2  74757  1661.6720    441.6910    225.3914        0.8600  308.5183    0.9359   \n",
       "3  88074  2199.8889    460.8836    283.3717        0.7886  334.8721    0.8709   \n",
       "4  79318  2589.4900    429.3032    279.5817        0.7589  317.7905    0.8666   \n",
       "\n",
       "   convex_area  extent  aspect_ratio  roundness  compactness  shapefactor_1  \\\n",
       "0        99678  0.7607        1.6057     0.3380       0.7708         0.0048   \n",
       "1        84345  0.7265        1.8295     0.2123       0.7213         0.0056   \n",
       "2        79873  0.7255        1.9597     0.3402       0.6985         0.0059   \n",
       "3       101133  0.6922        1.6264     0.2287       0.7266         0.0052   \n",
       "4        91528  0.6634        1.5355     0.1486       0.7402         0.0054   \n",
       "\n",
       "   shapefactor_2  shapefactor_3  shapefactor_4  \n",
       "0         0.0030         0.5942         0.9541  \n",
       "1         0.0030         0.5202         0.9517  \n",
       "2         0.0030         0.4879         0.9561  \n",
       "3         0.0032         0.5279         0.8586  \n",
       "4         0.0035         0.5480         0.8414  "
      ]
     },
     "execution_count": 5,
     "metadata": {},
     "output_type": "execute_result"
    }
   ],
   "source": [
    "test = pd.read_csv(\"test.csv\")\n",
    "print(\"Test shape\", test.shape )\n",
    "test.head()"
   ]
  },
  {
   "cell_type": "markdown",
   "id": "2e9d8b04",
   "metadata": {
    "papermill": {
     "duration": 0.004995,
     "end_time": "2025-02-18T03:56:45.154412",
     "exception": false,
     "start_time": "2025-02-18T03:56:45.149417",
     "status": "completed"
    },
    "tags": []
   },
   "source": [
    "# Feature Engineer Columns\n",
    "We will engineer 8 new columns by combining existing columns."
   ]
  },
  {
   "cell_type": "code",
   "execution_count": 93,
   "id": "bf601787",
   "metadata": {
    "execution": {
     "iopub.execute_input": "2025-02-18T03:56:45.164613Z",
     "iopub.status.busy": "2025-02-18T03:56:45.164374Z",
     "iopub.status.idle": "2025-02-18T03:56:45.174509Z",
     "shell.execute_reply": "2025-02-18T03:56:45.173863Z"
    },
    "papermill": {
     "duration": 0.016431,
     "end_time": "2025-02-18T03:56:45.175643",
     "exception": false,
     "start_time": "2025-02-18T03:56:45.159212",
     "status": "completed"
    },
    "tags": []
   },
   "outputs": [
    {
     "name": "stdout",
     "output_type": "stream",
     "text": [
      "There are 17 numerical column:\n"
     ]
    }
   ],
   "source": [
    "CATS = ['area', 'perimeter', 'major_axis', 'minor_axis', 'eccentricity', 'eqdiasq', 'solidity', 'convex_area', 'extent', 'aspect_ratio', 'roundness', 'compactness', 'shapefactor_1', 'shapefactor_3','shapefactor_4']\n",
    "print(f\"There are 17 numerical column:\")"
   ]
  },
  {
   "cell_type": "code",
   "execution_count": 94,
   "id": "7c25050f",
   "metadata": {
    "execution": {
     "iopub.execute_input": "2025-02-18T03:56:45.185845Z",
     "iopub.status.busy": "2025-02-18T03:56:45.185642Z",
     "iopub.status.idle": "2025-02-18T03:56:46.152050Z",
     "shell.execute_reply": "2025-02-18T03:56:46.151060Z"
    },
    "papermill": {
     "duration": 0.973316,
     "end_time": "2025-02-18T03:56:46.153913",
     "exception": false,
     "start_time": "2025-02-18T03:56:45.180597",
     "status": "completed"
    },
    "tags": []
   },
   "outputs": [
    {
     "name": "stdout",
     "output_type": "stream",
     "text": [
      "\n",
      "We engineer 15 new columns!\n",
      "['area_sf2', 'perimeter_sf2', 'major_axis_sf2', 'minor_axis_sf2', 'eccentricity_sf2', 'eqdiasq_sf2', 'solidity_sf2', 'convex_area_sf2', 'extent_sf2', 'aspect_ratio_sf2', 'roundness_sf2', 'compactness_sf2', 'shapefactor_1_sf2', 'shapefactor_3_sf2', 'shapefactor_4_sf2']\n"
     ]
    }
   ],
   "source": [
    "COMBO = []\n",
    "for i,c in enumerate(CATS):\n",
    "    #print(f\"{c}, \",end=\"\")\n",
    "    combine = pd.concat([train[c],test[c]],axis=0)\n",
    "    combine,_ = pd.factorize(combine)\n",
    "    train[c] = combine[:len(train)]\n",
    "    test[c] = combine[len(train):]\n",
    "    n = f\"{c}_sf2\"\n",
    "    train[n] = train[c]*100 + train[\"shapefactor_2\"]\n",
    "    test[n] = test[c]*100 + test[\"shapefactor_2\"]\n",
    "    COMBO.append(n)\n",
    "print()\n",
    "print(f\"We engineer {len(COMBO)} new columns!\")\n",
    "print( COMBO )"
   ]
  },
  {
   "cell_type": "code",
   "execution_count": 6,
   "id": "3be8583c",
   "metadata": {},
   "outputs": [
    {
     "ename": "NameError",
     "evalue": "name 'CATS' is not defined",
     "output_type": "error",
     "traceback": [
      "\u001b[1;31m---------------------------------------------------------------------------\u001b[0m",
      "\u001b[1;31mNameError\u001b[0m                                 Traceback (most recent call last)",
      "Cell \u001b[1;32mIn[6], line 1\u001b[0m\n\u001b[1;32m----> 1\u001b[0m FEATURES \u001b[38;5;241m=\u001b[39m \u001b[43mCATS\u001b[49m \u001b[38;5;241m+\u001b[39m [\u001b[38;5;124m\"\u001b[39m\u001b[38;5;124mshapefactor_2\u001b[39m\u001b[38;5;124m\"\u001b[39m] \u001b[38;5;241m+\u001b[39m COMBO\n\u001b[0;32m      2\u001b[0m \u001b[38;5;28mprint\u001b[39m(\u001b[38;5;124mf\u001b[39m\u001b[38;5;124m\"\u001b[39m\u001b[38;5;124mWe now have \u001b[39m\u001b[38;5;132;01m{\u001b[39;00m\u001b[38;5;28mlen\u001b[39m(FEATURES)\u001b[38;5;132;01m}\u001b[39;00m\u001b[38;5;124m columns:\u001b[39m\u001b[38;5;124m\"\u001b[39m)\n\u001b[0;32m      3\u001b[0m \u001b[38;5;28mprint\u001b[39m( FEATURES )\n",
      "\u001b[1;31mNameError\u001b[0m: name 'CATS' is not defined"
     ]
    }
   ],
   "source": [
    "FEATURES = CATS + [\"shapefactor_2\"] + COMBO\n",
    "print(f\"We now have {len(FEATURES)} columns:\")\n",
    "print( FEATURES )"
   ]
  },
  {
   "cell_type": "code",
   "execution_count": 7,
   "id": "25c981e4",
   "metadata": {
    "execution": {
     "iopub.execute_input": "2025-02-18T03:56:46.165418Z",
     "iopub.status.busy": "2025-02-18T03:56:46.165183Z",
     "iopub.status.idle": "2025-02-18T03:56:46.169017Z",
     "shell.execute_reply": "2025-02-18T03:56:46.168255Z"
    },
    "papermill": {
     "duration": 0.010964,
     "end_time": "2025-02-18T03:56:46.170625",
     "exception": false,
     "start_time": "2025-02-18T03:56:46.159661",
     "status": "completed"
    },
    "tags": []
   },
   "outputs": [
    {
     "name": "stdout",
     "output_type": "stream",
     "text": [
      "We now have 16 columns:\n",
      "['area', 'perimeter', 'major_axis', 'minor_axis', 'eccentricity', 'eqdiasq', 'solidity', 'convex_area', 'extent', 'aspect_ratio', 'roundness', 'compactness', 'shapefactor_1', 'shapefactor_2', 'shapefactor_3', 'shapefactor_4']\n"
     ]
    }
   ],
   "source": [
    "FEATURES = ['area', 'perimeter', 'major_axis', 'minor_axis', \n",
    "                   'eccentricity', 'eqdiasq', 'solidity', 'convex_area', 'extent', \n",
    "                   'aspect_ratio', 'roundness', 'compactness', 'shapefactor_1', \n",
    "                   'shapefactor_2', 'shapefactor_3', 'shapefactor_4']\n",
    "print(f\"We now have {len(FEATURES)} columns:\")\n",
    "print( FEATURES )"
   ]
  },
  {
   "cell_type": "markdown",
   "id": "2d26c086",
   "metadata": {
    "papermill": {
     "duration": 0.004722,
     "end_time": "2025-02-18T03:56:46.180393",
     "exception": false,
     "start_time": "2025-02-18T03:56:46.175671",
     "status": "completed"
    },
    "tags": []
   },
   "source": [
    "# XGBoost with Feature Engineer GroupBy\n",
    "We train XGBoost with nested folds. We use the inner nested fold to create new features that aggregate the target `price`. And we use the outer fold to create new features that do not aggregate the target `price`. In each k fold loop, we engineer new features using the advanced feature engineering technique `groupby(COL1)[COL2].agg(STAT)`. Since we are using [RAPIDS cuDF-Pandas][1], these groupby computations will run fast on GPU! And we will train our model quickly on GPU using XGBoost!\n",
    "\n",
    "[1]: https://rapids.ai/cudf-pandas/"
   ]
  },
  {
   "cell_type": "code",
   "execution_count": 8,
   "id": "00873126",
   "metadata": {
    "execution": {
     "iopub.execute_input": "2025-02-18T03:56:46.190832Z",
     "iopub.status.busy": "2025-02-18T03:56:46.190607Z",
     "iopub.status.idle": "2025-02-18T03:56:51.216626Z",
     "shell.execute_reply": "2025-02-18T03:56:51.215886Z"
    },
    "papermill": {
     "duration": 5.032728,
     "end_time": "2025-02-18T03:56:51.217972",
     "exception": false,
     "start_time": "2025-02-18T03:56:46.185244",
     "status": "completed"
    },
    "tags": []
   },
   "outputs": [
    {
     "name": "stdout",
     "output_type": "stream",
     "text": [
      "XGBoost version 3.0.0\n"
     ]
    }
   ],
   "source": [
    "from sklearn.model_selection import KFold\n",
    "from xgboost import XGBRegressor\n",
    "import xgboost as xgb\n",
    "print(f\"XGBoost version\",xgb.__version__)"
   ]
  },
  {
   "cell_type": "code",
   "execution_count": 9,
   "id": "698cdf1e",
   "metadata": {
    "execution": {
     "iopub.execute_input": "2025-02-18T03:56:51.229239Z",
     "iopub.status.busy": "2025-02-18T03:56:51.228846Z",
     "iopub.status.idle": "2025-02-18T03:56:51.231975Z",
     "shell.execute_reply": "2025-02-18T03:56:51.231408Z"
    },
    "papermill": {
     "duration": 0.009723,
     "end_time": "2025-02-18T03:56:51.233112",
     "exception": false,
     "start_time": "2025-02-18T03:56:51.223389",
     "status": "completed"
    },
    "tags": []
   },
   "outputs": [],
   "source": [
    "# STATISTICS TO AGGEGATE FOR OUR FEATURE GROUPS\n",
    "STATS = [\"mean\",\"std\",\"count\",\"nunique\",\"median\",\"min\",\"max\",\"skew\"]\n",
    "STATS2 = [\"mean\",\"std\"]"
   ]
  },
  {
   "cell_type": "code",
   "execution_count": 10,
   "id": "6b5923db",
   "metadata": {},
   "outputs": [
    {
     "data": {
      "text/html": [
       "<div>\n",
       "<style scoped>\n",
       "    .dataframe tbody tr th:only-of-type {\n",
       "        vertical-align: middle;\n",
       "    }\n",
       "\n",
       "    .dataframe tbody tr th {\n",
       "        vertical-align: top;\n",
       "    }\n",
       "\n",
       "    .dataframe thead th {\n",
       "        text-align: right;\n",
       "    }\n",
       "</style>\n",
       "<table border=\"1\" class=\"dataframe\">\n",
       "  <thead>\n",
       "    <tr style=\"text-align: right;\">\n",
       "      <th></th>\n",
       "      <th>area</th>\n",
       "      <th>perimeter</th>\n",
       "      <th>major_axis</th>\n",
       "      <th>minor_axis</th>\n",
       "      <th>eccentricity</th>\n",
       "      <th>eqdiasq</th>\n",
       "      <th>solidity</th>\n",
       "      <th>convex_area</th>\n",
       "      <th>extent</th>\n",
       "      <th>aspect_ratio</th>\n",
       "      <th>roundness</th>\n",
       "      <th>compactness</th>\n",
       "      <th>shapefactor_1</th>\n",
       "      <th>shapefactor_2</th>\n",
       "      <th>shapefactor_3</th>\n",
       "      <th>shapefactor_4</th>\n",
       "    </tr>\n",
       "  </thead>\n",
       "  <tbody>\n",
       "    <tr>\n",
       "      <th>0</th>\n",
       "      <td>93313</td>\n",
       "      <td>1862.7260</td>\n",
       "      <td>447.1666</td>\n",
       "      <td>278.4893</td>\n",
       "      <td>0.7824</td>\n",
       "      <td>344.6880</td>\n",
       "      <td>0.9361</td>\n",
       "      <td>99678</td>\n",
       "      <td>0.7607</td>\n",
       "      <td>1.6057</td>\n",
       "      <td>0.3380</td>\n",
       "      <td>0.7708</td>\n",
       "      <td>0.0048</td>\n",
       "      <td>0.0030</td>\n",
       "      <td>0.5942</td>\n",
       "      <td>0.9541</td>\n",
       "    </tr>\n",
       "    <tr>\n",
       "      <th>1</th>\n",
       "      <td>78778</td>\n",
       "      <td>2159.5969</td>\n",
       "      <td>439.1004</td>\n",
       "      <td>240.0113</td>\n",
       "      <td>0.8374</td>\n",
       "      <td>316.7069</td>\n",
       "      <td>0.9340</td>\n",
       "      <td>84345</td>\n",
       "      <td>0.7265</td>\n",
       "      <td>1.8295</td>\n",
       "      <td>0.2123</td>\n",
       "      <td>0.7213</td>\n",
       "      <td>0.0056</td>\n",
       "      <td>0.0030</td>\n",
       "      <td>0.5202</td>\n",
       "      <td>0.9517</td>\n",
       "    </tr>\n",
       "    <tr>\n",
       "      <th>2</th>\n",
       "      <td>74757</td>\n",
       "      <td>1661.6720</td>\n",
       "      <td>441.6910</td>\n",
       "      <td>225.3914</td>\n",
       "      <td>0.8600</td>\n",
       "      <td>308.5183</td>\n",
       "      <td>0.9359</td>\n",
       "      <td>79873</td>\n",
       "      <td>0.7255</td>\n",
       "      <td>1.9597</td>\n",
       "      <td>0.3402</td>\n",
       "      <td>0.6985</td>\n",
       "      <td>0.0059</td>\n",
       "      <td>0.0030</td>\n",
       "      <td>0.4879</td>\n",
       "      <td>0.9561</td>\n",
       "    </tr>\n",
       "    <tr>\n",
       "      <th>3</th>\n",
       "      <td>88074</td>\n",
       "      <td>2199.8889</td>\n",
       "      <td>460.8836</td>\n",
       "      <td>283.3717</td>\n",
       "      <td>0.7886</td>\n",
       "      <td>334.8721</td>\n",
       "      <td>0.8709</td>\n",
       "      <td>101133</td>\n",
       "      <td>0.6922</td>\n",
       "      <td>1.6264</td>\n",
       "      <td>0.2287</td>\n",
       "      <td>0.7266</td>\n",
       "      <td>0.0052</td>\n",
       "      <td>0.0032</td>\n",
       "      <td>0.5279</td>\n",
       "      <td>0.8586</td>\n",
       "    </tr>\n",
       "    <tr>\n",
       "      <th>4</th>\n",
       "      <td>79318</td>\n",
       "      <td>2589.4900</td>\n",
       "      <td>429.3032</td>\n",
       "      <td>279.5817</td>\n",
       "      <td>0.7589</td>\n",
       "      <td>317.7905</td>\n",
       "      <td>0.8666</td>\n",
       "      <td>91528</td>\n",
       "      <td>0.6634</td>\n",
       "      <td>1.5355</td>\n",
       "      <td>0.1486</td>\n",
       "      <td>0.7402</td>\n",
       "      <td>0.0054</td>\n",
       "      <td>0.0035</td>\n",
       "      <td>0.5480</td>\n",
       "      <td>0.8414</td>\n",
       "    </tr>\n",
       "    <tr>\n",
       "      <th>...</th>\n",
       "      <td>...</td>\n",
       "      <td>...</td>\n",
       "      <td>...</td>\n",
       "      <td>...</td>\n",
       "      <td>...</td>\n",
       "      <td>...</td>\n",
       "      <td>...</td>\n",
       "      <td>...</td>\n",
       "      <td>...</td>\n",
       "      <td>...</td>\n",
       "      <td>...</td>\n",
       "      <td>...</td>\n",
       "      <td>...</td>\n",
       "      <td>...</td>\n",
       "      <td>...</td>\n",
       "      <td>...</td>\n",
       "    </tr>\n",
       "    <tr>\n",
       "      <th>425</th>\n",
       "      <td>82531</td>\n",
       "      <td>1237.1060</td>\n",
       "      <td>493.5974</td>\n",
       "      <td>224.9682</td>\n",
       "      <td>0.8901</td>\n",
       "      <td>324.1631</td>\n",
       "      <td>0.9297</td>\n",
       "      <td>88769</td>\n",
       "      <td>0.7260</td>\n",
       "      <td>2.1941</td>\n",
       "      <td>0.6777</td>\n",
       "      <td>0.6567</td>\n",
       "      <td>0.0060</td>\n",
       "      <td>0.0027</td>\n",
       "      <td>0.4313</td>\n",
       "      <td>0.9463</td>\n",
       "    </tr>\n",
       "    <tr>\n",
       "      <th>426</th>\n",
       "      <td>67632</td>\n",
       "      <td>1172.7740</td>\n",
       "      <td>450.7991</td>\n",
       "      <td>199.7804</td>\n",
       "      <td>0.8964</td>\n",
       "      <td>293.4480</td>\n",
       "      <td>0.9534</td>\n",
       "      <td>70939</td>\n",
       "      <td>0.6800</td>\n",
       "      <td>2.2565</td>\n",
       "      <td>0.6179</td>\n",
       "      <td>0.6510</td>\n",
       "      <td>0.0067</td>\n",
       "      <td>0.0030</td>\n",
       "      <td>0.4237</td>\n",
       "      <td>0.9562</td>\n",
       "    </tr>\n",
       "    <tr>\n",
       "      <th>427</th>\n",
       "      <td>85519</td>\n",
       "      <td>1200.8210</td>\n",
       "      <td>480.6819</td>\n",
       "      <td>240.4698</td>\n",
       "      <td>0.8659</td>\n",
       "      <td>329.9790</td>\n",
       "      <td>0.9254</td>\n",
       "      <td>92409</td>\n",
       "      <td>0.7129</td>\n",
       "      <td>1.9989</td>\n",
       "      <td>0.7453</td>\n",
       "      <td>0.6865</td>\n",
       "      <td>0.0056</td>\n",
       "      <td>0.0028</td>\n",
       "      <td>0.4713</td>\n",
       "      <td>0.9420</td>\n",
       "    </tr>\n",
       "    <tr>\n",
       "      <th>428</th>\n",
       "      <td>86261</td>\n",
       "      <td>1156.8521</td>\n",
       "      <td>456.5374</td>\n",
       "      <td>241.3351</td>\n",
       "      <td>0.8489</td>\n",
       "      <td>331.4075</td>\n",
       "      <td>0.9878</td>\n",
       "      <td>87326</td>\n",
       "      <td>0.6689</td>\n",
       "      <td>1.8917</td>\n",
       "      <td>0.8100</td>\n",
       "      <td>0.7259</td>\n",
       "      <td>0.0053</td>\n",
       "      <td>0.0028</td>\n",
       "      <td>0.5270</td>\n",
       "      <td>0.9968</td>\n",
       "    </tr>\n",
       "    <tr>\n",
       "      <th>429</th>\n",
       "      <td>51626</td>\n",
       "      <td>1030.5439</td>\n",
       "      <td>381.8336</td>\n",
       "      <td>178.0177</td>\n",
       "      <td>0.8847</td>\n",
       "      <td>256.3831</td>\n",
       "      <td>0.9589</td>\n",
       "      <td>53839</td>\n",
       "      <td>0.6754</td>\n",
       "      <td>2.1449</td>\n",
       "      <td>0.6109</td>\n",
       "      <td>0.6715</td>\n",
       "      <td>0.0074</td>\n",
       "      <td>0.0034</td>\n",
       "      <td>0.4508</td>\n",
       "      <td>0.9670</td>\n",
       "    </tr>\n",
       "  </tbody>\n",
       "</table>\n",
       "<p>430 rows × 16 columns</p>\n",
       "</div>"
      ],
      "text/plain": [
       "      area  perimeter  major_axis  minor_axis  eccentricity   eqdiasq  \\\n",
       "0    93313  1862.7260    447.1666    278.4893        0.7824  344.6880   \n",
       "1    78778  2159.5969    439.1004    240.0113        0.8374  316.7069   \n",
       "2    74757  1661.6720    441.6910    225.3914        0.8600  308.5183   \n",
       "3    88074  2199.8889    460.8836    283.3717        0.7886  334.8721   \n",
       "4    79318  2589.4900    429.3032    279.5817        0.7589  317.7905   \n",
       "..     ...        ...         ...         ...           ...       ...   \n",
       "425  82531  1237.1060    493.5974    224.9682        0.8901  324.1631   \n",
       "426  67632  1172.7740    450.7991    199.7804        0.8964  293.4480   \n",
       "427  85519  1200.8210    480.6819    240.4698        0.8659  329.9790   \n",
       "428  86261  1156.8521    456.5374    241.3351        0.8489  331.4075   \n",
       "429  51626  1030.5439    381.8336    178.0177        0.8847  256.3831   \n",
       "\n",
       "     solidity  convex_area  extent  aspect_ratio  roundness  compactness  \\\n",
       "0      0.9361        99678  0.7607        1.6057     0.3380       0.7708   \n",
       "1      0.9340        84345  0.7265        1.8295     0.2123       0.7213   \n",
       "2      0.9359        79873  0.7255        1.9597     0.3402       0.6985   \n",
       "3      0.8709       101133  0.6922        1.6264     0.2287       0.7266   \n",
       "4      0.8666        91528  0.6634        1.5355     0.1486       0.7402   \n",
       "..        ...          ...     ...           ...        ...          ...   \n",
       "425    0.9297        88769  0.7260        2.1941     0.6777       0.6567   \n",
       "426    0.9534        70939  0.6800        2.2565     0.6179       0.6510   \n",
       "427    0.9254        92409  0.7129        1.9989     0.7453       0.6865   \n",
       "428    0.9878        87326  0.6689        1.8917     0.8100       0.7259   \n",
       "429    0.9589        53839  0.6754        2.1449     0.6109       0.6715   \n",
       "\n",
       "     shapefactor_1  shapefactor_2  shapefactor_3  shapefactor_4  \n",
       "0           0.0048         0.0030         0.5942         0.9541  \n",
       "1           0.0056         0.0030         0.5202         0.9517  \n",
       "2           0.0059         0.0030         0.4879         0.9561  \n",
       "3           0.0052         0.0032         0.5279         0.8586  \n",
       "4           0.0054         0.0035         0.5480         0.8414  \n",
       "..             ...            ...            ...            ...  \n",
       "425         0.0060         0.0027         0.4313         0.9463  \n",
       "426         0.0067         0.0030         0.4237         0.9562  \n",
       "427         0.0056         0.0028         0.4713         0.9420  \n",
       "428         0.0053         0.0028         0.5270         0.9968  \n",
       "429         0.0074         0.0034         0.4508         0.9670  \n",
       "\n",
       "[430 rows x 16 columns]"
      ]
     },
     "execution_count": 10,
     "metadata": {},
     "output_type": "execute_result"
    }
   ],
   "source": [
    "test[FEATURES]"
   ]
  },
  {
   "cell_type": "code",
   "execution_count": 13,
   "id": "76d97ef2",
   "metadata": {
    "collapsed": true,
    "execution": {
     "iopub.execute_input": "2025-02-18T03:56:51.243838Z",
     "iopub.status.busy": "2025-02-18T03:56:51.243636Z",
     "iopub.status.idle": "2025-02-18T04:19:57.282993Z",
     "shell.execute_reply": "2025-02-18T04:19:57.282218Z"
    },
    "jupyter": {
     "outputs_hidden": true
    },
    "papermill": {
     "duration": 1386.046274,
     "end_time": "2025-02-18T04:19:57.284487",
     "exception": false,
     "start_time": "2025-02-18T03:56:51.238213",
     "status": "completed"
    },
    "tags": []
   },
   "outputs": [
    {
     "name": "stdout",
     "output_type": "stream",
     "text": [
      "### OUTER Fold 1 ###\n",
      " ## INNER Fold 1 (outer fold 1) ##\n",
      " ## INNER Fold 2 (outer fold 1) ##\n",
      " ## INNER Fold 3 (outer fold 1) ##\n",
      " ## INNER Fold 4 (outer fold 1) ##\n",
      " ## INNER Fold 5 (outer fold 1) ##\n",
      " ## INNER Fold 6 (outer fold 1) ##\n",
      " ## INNER Fold 7 (outer fold 1) ##\n",
      "[0]\tvalidation_0-rmse:0.48356\n",
      "[227]\tvalidation_0-rmse:0.32439\n",
      "### OUTER Fold 2 ###\n",
      " ## INNER Fold 1 (outer fold 2) ##\n",
      " ## INNER Fold 2 (outer fold 2) ##\n",
      " ## INNER Fold 3 (outer fold 2) ##\n",
      " ## INNER Fold 4 (outer fold 2) ##\n",
      " ## INNER Fold 5 (outer fold 2) ##\n",
      " ## INNER Fold 6 (outer fold 2) ##\n",
      " ## INNER Fold 7 (outer fold 2) ##\n",
      "[0]\tvalidation_0-rmse:0.48646\n"
     ]
    },
    {
     "name": "stderr",
     "output_type": "stream",
     "text": [
      "c:\\Users\\ilyav\\AppData\\Local\\Programs\\Python\\Python313\\Lib\\site-packages\\xgboost\\core.py:729: UserWarning: [18:19:40] WARNING: C:\\actions-runner\\_work\\xgboost\\xgboost\\src\\common\\error_msg.cc:58: Falling back to prediction using DMatrix due to mismatched devices. This might lead to higher memory usage and slower performance. XGBoost is running on: cuda:0, while the input data is on: cpu.\n",
      "Potential solutions:\n",
      "- Use a data structure that matches the device ordinal in the booster.\n",
      "- Set the device for booster before call to inplace_predict.\n",
      "\n",
      "This warning will only be shown once.\n",
      "\n",
      "  return func(**kwargs)\n"
     ]
    },
    {
     "name": "stdout",
     "output_type": "stream",
     "text": [
      "[219]\tvalidation_0-rmse:0.32666\n",
      "### OUTER Fold 3 ###\n",
      " ## INNER Fold 1 (outer fold 3) ##\n",
      " ## INNER Fold 2 (outer fold 3) ##\n",
      " ## INNER Fold 3 (outer fold 3) ##\n",
      " ## INNER Fold 4 (outer fold 3) ##\n",
      " ## INNER Fold 5 (outer fold 3) ##\n",
      " ## INNER Fold 6 (outer fold 3) ##\n",
      " ## INNER Fold 7 (outer fold 3) ##\n",
      "[0]\tvalidation_0-rmse:0.48562\n",
      "[276]\tvalidation_0-rmse:0.30236\n",
      "### OUTER Fold 4 ###\n",
      " ## INNER Fold 1 (outer fold 4) ##\n",
      " ## INNER Fold 2 (outer fold 4) ##\n",
      " ## INNER Fold 3 (outer fold 4) ##\n",
      " ## INNER Fold 4 (outer fold 4) ##\n",
      " ## INNER Fold 5 (outer fold 4) ##\n",
      " ## INNER Fold 6 (outer fold 4) ##\n",
      " ## INNER Fold 7 (outer fold 4) ##\n",
      "[0]\tvalidation_0-rmse:0.49381\n",
      "[300]\tvalidation_0-rmse:0.30417\n",
      "[522]\tvalidation_0-rmse:0.30130\n",
      "### OUTER Fold 5 ###\n",
      " ## INNER Fold 1 (outer fold 5) ##\n",
      " ## INNER Fold 2 (outer fold 5) ##\n",
      " ## INNER Fold 3 (outer fold 5) ##\n",
      " ## INNER Fold 4 (outer fold 5) ##\n",
      " ## INNER Fold 5 (outer fold 5) ##\n",
      " ## INNER Fold 6 (outer fold 5) ##\n",
      " ## INNER Fold 7 (outer fold 5) ##\n",
      "[0]\tvalidation_0-rmse:0.48945\n",
      "[231]\tvalidation_0-rmse:0.33949\n",
      "### OUTER Fold 6 ###\n",
      " ## INNER Fold 1 (outer fold 6) ##\n",
      " ## INNER Fold 2 (outer fold 6) ##\n",
      " ## INNER Fold 3 (outer fold 6) ##\n",
      " ## INNER Fold 4 (outer fold 6) ##\n",
      " ## INNER Fold 5 (outer fold 6) ##\n",
      " ## INNER Fold 6 (outer fold 6) ##\n",
      " ## INNER Fold 7 (outer fold 6) ##\n",
      "[0]\tvalidation_0-rmse:0.50186\n",
      "[276]\tvalidation_0-rmse:0.32310\n",
      "### OUTER Fold 7 ###\n",
      " ## INNER Fold 1 (outer fold 7) ##\n",
      " ## INNER Fold 2 (outer fold 7) ##\n",
      " ## INNER Fold 3 (outer fold 7) ##\n",
      " ## INNER Fold 4 (outer fold 7) ##\n",
      " ## INNER Fold 5 (outer fold 7) ##\n",
      " ## INNER Fold 6 (outer fold 7) ##\n",
      " ## INNER Fold 7 (outer fold 7) ##\n",
      "[0]\tvalidation_0-rmse:0.48873\n",
      "[232]\tvalidation_0-rmse:0.31722\n",
      "CPU times: total: 12 s\n",
      "Wall time: 6.22 s\n"
     ]
    }
   ],
   "source": [
    "%%time\n",
    "\n",
    "FOLDS = 7\n",
    "kf = KFold(n_splits=FOLDS, shuffle=True, random_state=42)\n",
    "\n",
    "oof = np.zeros((len(train)))\n",
    "pred = np.zeros((len(test)))\n",
    "\n",
    "# OUTER K FOLD\n",
    "for i, (train_index, test_index) in enumerate(kf.split(train)):\n",
    "    print(f\"### OUTER Fold {i+1} ###\")\n",
    "\n",
    "    X_train = train.loc[train_index,FEATURES+['target']].reset_index(drop=True).copy()\n",
    "    y_train = train.loc[train_index,'target']\n",
    "\n",
    "    X_valid = train.loc[test_index,FEATURES].reset_index(drop=True).copy()\n",
    "    y_valid = train.loc[test_index,'target']\n",
    "\n",
    "    X_test = test[FEATURES].reset_index(drop=True).copy()\n",
    "\n",
    "    # INNER K FOLD (TO PREVENT LEAKAGE WHEN USING PRICE)\n",
    "    kf2 = KFold(n_splits=FOLDS, shuffle=True, random_state=42)   \n",
    "    for j, (train_index2, test_index2) in enumerate(kf2.split(X_train)):\n",
    "        print(f\" ## INNER Fold {j+1} (outer fold {i+1}) ##\")\n",
    "\n",
    "        X_train2 = X_train.loc[train_index2,FEATURES+['target']].copy()\n",
    "        X_valid2 = X_train.loc[test_index2,FEATURES].copy()\n",
    "        \n",
    "        ### FEATURE SET 1 (uses price) ###\n",
    "        col = \"shapefactor_2\"\n",
    "        tmp = X_train2.groupby(col).target.agg(STATS)\n",
    "        tmp.columns = [f\"TE1_shape2_{s}\" for s in STATS]\n",
    "        \n",
    "        X_valid2 = X_valid2.merge(tmp, on=col, how=\"left\")\n",
    "        \n",
    "        for c in tmp.columns:\n",
    "            X_train.loc[test_index2,c] = X_valid2[c].values\n",
    "        \n",
    "\n",
    "        #### FEATURE SET 2 (uses price) ###\n",
    "        #for col in COMBO:\n",
    "        #    tmp = X_train2.groupby(col).target.agg(STATS2)\n",
    "        #    tmp.columns = [f\"TE2_{col}_{s}\" for s in STATS2]\n",
    "        #    X_valid2 = X_valid2.merge(tmp, on=col, how=\"left\")\n",
    "        #    for c in tmp.columns:\n",
    "        #        X_train.loc[test_index2,c] = X_valid2[c].values\n",
    "\n",
    "    ### FEATURE SET 1 (uses price) ###\n",
    "    col = \"shapefactor_2\"\n",
    "    tmp = X_train.groupby(col).target.agg(STATS)\n",
    "    tmp.columns = [f\"TE1_shape2_{s}\" for s in STATS]\n",
    "    X_valid = X_valid.merge(tmp, on=col, how=\"left\")\n",
    "    X_test = X_test.merge(tmp, on=col, how=\"left\")\n",
    "\n",
    "    #### FEATURE SET 2 (uses price) ###\n",
    "    #for col in COMBO:\n",
    "    #    tmp = X_train.groupby(col).target.agg(STATS2)\n",
    "    #    tmp.columns = [f\"TE2_{col}_{s}\" for s in STATS2]\n",
    "    #    X_valid = X_valid.merge(tmp, on=col, how=\"left\")\n",
    "    #    X_test = X_test.merge(tmp, on=col, how=\"left\")\n",
    "\n",
    "    ### FEATURE SET 3 (does not use price) ###\n",
    "    #for col in CATS:\n",
    "    #    col2 = \"shapefactor_2\"\n",
    "    #    tmp = X_train.groupby(col)[col2].agg(STATS2)\n",
    "    #    tmp.columns = [f\"FE3_{col}_sh2_{s}\" for s in STATS2]\n",
    "    #    X_train = X_train.merge(tmp, on=col, how=\"left\")\n",
    "    #    X_valid = X_valid.merge(tmp, on=col, how=\"left\")\n",
    "    #    X_test = X_test.merge(tmp, on=col, how=\"left\")\n",
    "#\n",
    "    ## CONVERT TO CATS SO XGBOOST RECOGNIZES THEM\n",
    "    #X_train[CATS] = X_train[CATS].astype(\"category\")\n",
    "    #X_valid[CATS] = X_valid[CATS].astype(\"category\")\n",
    "    #X_test[CATS] = X_test[CATS].astype(\"category\")\n",
    "\n",
    "    # DROP PRICE THAT WAS USED FOR TARGET ENCODING\n",
    "    X_train = X_train.drop(['target'],axis=1)\n",
    "\n",
    "    # BUILD MODEL\n",
    "    model = XGBRegressor(\n",
    "        device=\"cuda\",\n",
    "        max_depth=6,  \n",
    "        colsample_bytree=0.5, \n",
    "        subsample=0.8,  \n",
    "        n_estimators=10_000,  \n",
    "        learning_rate=0.02,  \n",
    "        enable_categorical=True,\n",
    "        min_child_weight=10,\n",
    "        early_stopping_rounds=100,\n",
    "    )\n",
    "    \n",
    "    # TRAIN MODEL\n",
    "    COLS = X_train.columns\n",
    "    model.fit(\n",
    "        X_train[COLS], y_train,\n",
    "        eval_set=[(X_valid[COLS], y_valid)],  \n",
    "        verbose=300,\n",
    "    )\n",
    "\n",
    "    # PREDICT OOF AND TEST\n",
    "    oof[test_index] = model.predict(X_valid[COLS])\n",
    "    pred += model.predict(X_test[COLS])\n",
    "\n",
    "pred /= FOLDS"
   ]
  },
  {
   "cell_type": "markdown",
   "id": "5c08f4c9",
   "metadata": {
    "papermill": {
     "duration": 0.008949,
     "end_time": "2025-02-18T04:19:57.303226",
     "exception": false,
     "start_time": "2025-02-18T04:19:57.294277",
     "status": "completed"
    },
    "tags": []
   },
   "source": [
    "# Overall CV Score\n",
    "Below we display overall cv score and save oof predictions to disk so we can use them later to assist finding ensemble weights with our other models."
   ]
  },
  {
   "cell_type": "code",
   "execution_count": 14,
   "id": "2690a7ec",
   "metadata": {
    "execution": {
     "iopub.execute_input": "2025-02-18T04:19:57.321774Z",
     "iopub.status.busy": "2025-02-18T04:19:57.321533Z",
     "iopub.status.idle": "2025-02-18T04:19:58.011567Z",
     "shell.execute_reply": "2025-02-18T04:19:58.010514Z"
    },
    "papermill": {
     "duration": 0.700851,
     "end_time": "2025-02-18T04:19:58.012844",
     "exception": false,
     "start_time": "2025-02-18T04:19:57.311993",
     "status": "completed"
    },
    "tags": []
   },
   "outputs": [
    {
     "name": "stdout",
     "output_type": "stream",
     "text": [
      "=> Overall CV Score = 0.31684610539124236\n"
     ]
    }
   ],
   "source": [
    "# COMPUTE OVERALL CV SCORE\n",
    "true = train.target.values\n",
    "s = np.sqrt(np.mean( (oof-true)**2.0 ) )\n",
    "print(f\"=> Overall CV Score = {s}\")"
   ]
  },
  {
   "cell_type": "code",
   "execution_count": 15,
   "id": "2c32687b",
   "metadata": {
    "execution": {
     "iopub.execute_input": "2025-02-18T04:19:58.032516Z",
     "iopub.status.busy": "2025-02-18T04:19:58.032245Z",
     "iopub.status.idle": "2025-02-18T04:19:58.058093Z",
     "shell.execute_reply": "2025-02-18T04:19:58.057247Z"
    },
    "papermill": {
     "duration": 0.03686,
     "end_time": "2025-02-18T04:19:58.059319",
     "exception": false,
     "start_time": "2025-02-18T04:19:58.022459",
     "status": "completed"
    },
    "tags": []
   },
   "outputs": [
    {
     "name": "stdout",
     "output_type": "stream",
     "text": [
      "Saved oof to disk\n"
     ]
    }
   ],
   "source": [
    "# SAVE OOF TO DISK FOR ENSEMBLES\n",
    "np.save(f\"oof_v{VER}\",oof)\n",
    "print(\"Saved oof to disk\")"
   ]
  },
  {
   "cell_type": "markdown",
   "id": "d0af9d42",
   "metadata": {
    "papermill": {
     "duration": 0.00939,
     "end_time": "2025-02-18T04:19:58.077841",
     "exception": false,
     "start_time": "2025-02-18T04:19:58.068451",
     "status": "completed"
    },
    "tags": []
   },
   "source": [
    "# Feature Names\n",
    "Below we list all our engineered features. We are using 57 features in total!"
   ]
  },
  {
   "cell_type": "code",
   "execution_count": 16,
   "id": "1046956d",
   "metadata": {
    "execution": {
     "iopub.execute_input": "2025-02-18T04:19:58.096815Z",
     "iopub.status.busy": "2025-02-18T04:19:58.096597Z",
     "iopub.status.idle": "2025-02-18T04:19:58.104303Z",
     "shell.execute_reply": "2025-02-18T04:19:58.103438Z"
    },
    "papermill": {
     "duration": 0.018904,
     "end_time": "2025-02-18T04:19:58.105644",
     "exception": false,
     "start_time": "2025-02-18T04:19:58.086740",
     "status": "completed"
    },
    "tags": []
   },
   "outputs": [
    {
     "name": "stdout",
     "output_type": "stream",
     "text": [
      "\n",
      "In total, we used 24 features, Wow!\n",
      "\n",
      "['area', 'perimeter', 'major_axis', 'minor_axis', 'eccentricity', 'eqdiasq', 'solidity', 'convex_area', 'extent', 'aspect_ratio', 'roundness', 'compactness', 'shapefactor_1', 'shapefactor_2', 'shapefactor_3', 'shapefactor_4', 'TE1_shape2_mean', 'TE1_shape2_std', 'TE1_shape2_count', 'TE1_shape2_nunique', 'TE1_shape2_median', 'TE1_shape2_min', 'TE1_shape2_max', 'TE1_shape2_skew']\n"
     ]
    }
   ],
   "source": [
    "print(f\"\\nIn total, we used {len(COLS)} features, Wow!\\n\")\n",
    "print( list(COLS) )"
   ]
  },
  {
   "cell_type": "markdown",
   "id": "faba6a60",
   "metadata": {
    "papermill": {
     "duration": 0.008937,
     "end_time": "2025-02-18T04:19:58.123838",
     "exception": false,
     "start_time": "2025-02-18T04:19:58.114901",
     "status": "completed"
    },
    "tags": []
   },
   "source": [
    "# XGB Feature Importance\n",
    "Here is XGBoost feature importance sorted by `gain`."
   ]
  },
  {
   "cell_type": "code",
   "execution_count": 17,
   "id": "7d5e0574",
   "metadata": {
    "execution": {
     "iopub.execute_input": "2025-02-18T04:19:58.143041Z",
     "iopub.status.busy": "2025-02-18T04:19:58.142806Z",
     "iopub.status.idle": "2025-02-18T04:19:58.805428Z",
     "shell.execute_reply": "2025-02-18T04:19:58.804591Z"
    },
    "papermill": {
     "duration": 0.676576,
     "end_time": "2025-02-18T04:19:58.809620",
     "exception": false,
     "start_time": "2025-02-18T04:19:58.133044",
     "status": "completed"
    },
    "tags": []
   },
   "outputs": [
    {
     "data": {
      "image/png": "[encoded data removed]",
      "text/plain": [
       "<Figure size 1000x2000 with 1 Axes>"
      ]
     },
     "metadata": {},
     "output_type": "display_data"
    }
   ],
   "source": [
    "import xgboost as xgb\n",
    "fig, ax = plt.subplots(figsize=(10, 20))\n",
    "xgb.plot_importance(model, max_num_features=100, importance_type='gain',ax=ax)\n",
    "plt.title(\"Top 100 Feature Importances (XGBoost)\")\n",
    "plt.show()"
   ]
  },
  {
   "cell_type": "markdown",
   "id": "20d87018",
   "metadata": {
    "papermill": {
     "duration": 0.012853,
     "end_time": "2025-02-18T04:19:58.836157",
     "exception": false,
     "start_time": "2025-02-18T04:19:58.823304",
     "status": "completed"
    },
    "tags": []
   },
   "source": [
    "# Make Submission CSV\n",
    "We save our test predictions to submission.csv and plot our predictions. "
   ]
  },
  {
   "cell_type": "code",
   "execution_count": 16,
   "id": "65875a48",
   "metadata": {
    "execution": {
     "iopub.execute_input": "2025-02-18T04:19:58.862752Z",
     "iopub.status.busy": "2025-02-18T04:19:58.862515Z",
     "iopub.status.idle": "2025-02-18T04:19:58.934319Z",
     "shell.execute_reply": "2025-02-18T04:19:58.933606Z"
    },
    "papermill": {
     "duration": 0.086645,
     "end_time": "2025-02-18T04:19:58.935638",
     "exception": false,
     "start_time": "2025-02-18T04:19:58.848993",
     "status": "completed"
    },
    "tags": []
   },
   "outputs": [
    {
     "data": {
      "text/html": [
       "<div>\n",
       "<style scoped>\n",
       "    .dataframe tbody tr th:only-of-type {\n",
       "        vertical-align: middle;\n",
       "    }\n",
       "\n",
       "    .dataframe tbody tr th {\n",
       "        vertical-align: top;\n",
       "    }\n",
       "\n",
       "    .dataframe thead th {\n",
       "        text-align: right;\n",
       "    }\n",
       "</style>\n",
       "<table border=\"1\" class=\"dataframe\">\n",
       "  <thead>\n",
       "    <tr style=\"text-align: right;\">\n",
       "      <th></th>\n",
       "      <th>id</th>\n",
       "      <th>Price</th>\n",
       "    </tr>\n",
       "  </thead>\n",
       "  <tbody>\n",
       "    <tr>\n",
       "      <th>0</th>\n",
       "      <td>300000</td>\n",
       "      <td>79.935581</td>\n",
       "    </tr>\n",
       "    <tr>\n",
       "      <th>1</th>\n",
       "      <td>300001</td>\n",
       "      <td>83.089314</td>\n",
       "    </tr>\n",
       "    <tr>\n",
       "      <th>2</th>\n",
       "      <td>300002</td>\n",
       "      <td>86.401968</td>\n",
       "    </tr>\n",
       "    <tr>\n",
       "      <th>3</th>\n",
       "      <td>300003</td>\n",
       "      <td>76.810952</td>\n",
       "    </tr>\n",
       "    <tr>\n",
       "      <th>4</th>\n",
       "      <td>300004</td>\n",
       "      <td>79.446623</td>\n",
       "    </tr>\n",
       "  </tbody>\n",
       "</table>\n",
       "</div>"
      ],
      "text/plain": [
       "       id      Price\n",
       "0  300000  79.935581\n",
       "1  300001  83.089314\n",
       "2  300002  86.401968\n",
       "3  300003  76.810952\n",
       "4  300004  79.446623"
      ]
     },
     "execution_count": 16,
     "metadata": {},
     "output_type": "execute_result"
    }
   ],
   "source": [
    "sub = pd.read_csv(\"/kaggle/input/playground-series-s5e2/sample_submission.csv\")\n",
    "sub.Price = pred\n",
    "sub.to_csv(f\"submission_v{VER}.csv\",index=False)\n",
    "sub.head()"
   ]
  },
  {
   "cell_type": "code",
   "execution_count": 17,
   "id": "1f251270",
   "metadata": {
    "execution": {
     "iopub.execute_input": "2025-02-18T04:19:58.962971Z",
     "iopub.status.busy": "2025-02-18T04:19:58.962749Z",
     "iopub.status.idle": "2025-02-18T04:20:02.585124Z",
     "shell.execute_reply": "2025-02-18T04:20:02.584209Z"
    },
    "papermill": {
     "duration": 3.637632,
     "end_time": "2025-02-18T04:20:02.586641",
     "exception": false,
     "start_time": "2025-02-18T04:19:58.949009",
     "status": "completed"
    },
    "tags": []
   },
   "outputs": [
    {
     "data": {
      "image/png": "[encoded data removed]",
      "text/plain": [
       "<Figure size 600x400 with 1 Axes>"
      ]
     },
     "metadata": {},
     "output_type": "display_data"
    }
   ],
   "source": [
    "plt.figure(figsize=(6,4))\n",
    "plt.hist(sub.Price,bins=100)\n",
    "plt.title(\"Test Predictions\")\n",
    "plt.show()"
   ]
  }
 ],
 "metadata": {
  "kaggle": {
   "accelerator": "nvidiaTeslaT4",
   "dataSources": [
    {
     "databundleVersionId": 10995111,
     "isSourceIdPinned": false,
     "sourceId": 90274,
     "sourceType": "competition"
    },
    {
     "sourceId": 223071113,
     "sourceType": "kernelVersion"
    }
   ],
   "isGpuEnabled": true,
   "isInternetEnabled": false,
   "language": "python",
   "sourceType": "notebook"
  },
  "kernelspec": {
   "display_name": "Python 3",
   "language": "python",
   "name": "python3"
  },
  "language_info": {
   "codemirror_mode": {
    "name": "ipython",
    "version": 3
   },
   "file_extension": ".py",
   "mimetype": "text/x-python",
   "name": "python",
   "nbconvert_exporter": "python",
   "pygments_lexer": "ipython3",
   "version": "3.13.2"
  },
  "papermill": {
   "default_parameters": {},
   "duration": 1433.730003,
   "end_time": "2025-02-18T04:20:05.760924",
   "environment_variables": {},
   "exception": null,
   "input_path": "__notebook__.ipynb",
   "output_path": "__notebook__.ipynb",
   "parameters": {},
   "start_time": "2025-02-18T03:56:12.030921",
   "version": "2.6.0"
  }
 },
 "nbformat": 4,
 "nbformat_minor": 5
}
