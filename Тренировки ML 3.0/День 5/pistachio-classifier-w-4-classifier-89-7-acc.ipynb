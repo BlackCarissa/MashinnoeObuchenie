{
 "cells": [
  {
   "cell_type": "code",
   "execution_count": 1,
   "id": "ae7d79e1",
   "metadata": {
    "_cell_guid": "b1076dfc-b9ad-4769-8c92-a6c4dae69d19",
    "_uuid": "8f2839f25d086af736a60e9eeb907d3b93b6e0e5",
    "execution": {
     "iopub.execute_input": "2024-03-11T09:35:27.051494Z",
     "iopub.status.busy": "2024-03-11T09:35:27.050641Z",
     "iopub.status.idle": "2024-03-11T09:35:27.980042Z",
     "shell.execute_reply": "2024-03-11T09:35:27.978682Z"
    },
    "papermill": {
     "duration": 0.940455,
     "end_time": "2024-03-11T09:35:27.982688",
     "exception": false,
     "start_time": "2024-03-11T09:35:27.042233",
     "status": "completed"
    },
    "tags": []
   },
   "outputs": [
    {
     "name": "stdout",
     "output_type": "stream",
     "text": [
      "/kaggle/input/pistachio-dataset/Pistachio_Dataset/Pistachio_16_Features_Dataset/Pistachio_16_Features_Dataset.arff\n",
      "/kaggle/input/pistachio-dataset/Pistachio_Dataset/Pistachio_16_Features_Dataset/Pistachio_16_Features_Dataset.xls\n",
      "/kaggle/input/pistachio-dataset/Pistachio_Dataset/Pistachio_16_Features_Dataset/Pistachio_16_Features_Dataset_Citation_Request.txt\n",
      "/kaggle/input/pistachio-dataset/Pistachio_Dataset/Pistachio_16_Features_Dataset/Pistachio_16_Features_Dataset.xlsx\n",
      "/kaggle/input/pistachio-dataset/Pistachio_Dataset/Pistachio_28_Features_Dataset/Pistachio_28_Features_Dataset.arff\n",
      "/kaggle/input/pistachio-dataset/Pistachio_Dataset/Pistachio_28_Features_Dataset/Pistachio_28_Features_Dataset.xlsx\n",
      "/kaggle/input/pistachio-dataset/Pistachio_Dataset/Pistachio_28_Features_Dataset/Pistachio_28_Features_Dataset_Citation_Request.txt\n",
      "/kaggle/input/pistachio-dataset/Pistachio_Dataset/Pistachio_28_Features_Dataset/Pistachio_28_Features_Dataset.xls\n"
     ]
    }
   ],
   "source": [
    "# This Python 3 environment comes with many helpful analytics libraries installed\n",
    "# It is defined by the kaggle/python Docker image: https://github.com/kaggle/docker-python\n",
    "# For example, here's several helpful packages to load\n",
    "\n",
    "import numpy as np # linear algebra\n",
    "import pandas as pd # data processing, CSV file I/O (e.g. pd.read_csv)\n",
    "\n",
    "# Input data files are available in the read-only \"../input/\" directory\n",
    "# For example, running this (by clicking run or pressing Shift+Enter) will list all files under the input directory\n",
    "\n",
    "import os\n",
    "for dirname, _, filenames in os.walk('/kaggle/input'):\n",
    "    for filename in filenames:\n",
    "        print(os.path.join(dirname, filename))\n",
    "\n",
    "# You can write up to 20GB to the current directory (/kaggle/working/) that gets preserved as output when you create a version using \"Save & Run All\" \n",
    "# You can also write temporary files to /kaggle/temp/, but they won't be saved outside of the current session"
   ]
  },
  {
   "cell_type": "code",
   "execution_count": 2,
   "id": "74fb45b5",
   "metadata": {
    "execution": {
     "iopub.execute_input": "2024-03-11T09:35:27.995185Z",
     "iopub.status.busy": "2024-03-11T09:35:27.993849Z",
     "iopub.status.idle": "2024-03-11T09:35:29.230604Z",
     "shell.execute_reply": "2024-03-11T09:35:29.229527Z"
    },
    "papermill": {
     "duration": 1.245479,
     "end_time": "2024-03-11T09:35:29.233223",
     "exception": false,
     "start_time": "2024-03-11T09:35:27.987744",
     "status": "completed"
    },
    "tags": []
   },
   "outputs": [
    {
     "data": {
      "text/html": [
       "<div>\n",
       "<style scoped>\n",
       "    .dataframe tbody tr th:only-of-type {\n",
       "        vertical-align: middle;\n",
       "    }\n",
       "\n",
       "    .dataframe tbody tr th {\n",
       "        vertical-align: top;\n",
       "    }\n",
       "\n",
       "    .dataframe thead th {\n",
       "        text-align: right;\n",
       "    }\n",
       "</style>\n",
       "<table border=\"1\" class=\"dataframe\">\n",
       "  <thead>\n",
       "    <tr style=\"text-align: right;\">\n",
       "      <th></th>\n",
       "      <th>AREA</th>\n",
       "      <th>PERIMETER</th>\n",
       "      <th>MAJOR_AXIS</th>\n",
       "      <th>MINOR_AXIS</th>\n",
       "      <th>ECCENTRICITY</th>\n",
       "      <th>EQDIASQ</th>\n",
       "      <th>SOLIDITY</th>\n",
       "      <th>CONVEX_AREA</th>\n",
       "      <th>EXTENT</th>\n",
       "      <th>ASPECT_RATIO</th>\n",
       "      <th>ROUNDNESS</th>\n",
       "      <th>COMPACTNESS</th>\n",
       "      <th>SHAPEFACTOR_1</th>\n",
       "      <th>SHAPEFACTOR_2</th>\n",
       "      <th>SHAPEFACTOR_3</th>\n",
       "      <th>SHAPEFACTOR_4</th>\n",
       "      <th>Class</th>\n",
       "    </tr>\n",
       "  </thead>\n",
       "  <tbody>\n",
       "    <tr>\n",
       "      <th>0</th>\n",
       "      <td>63391</td>\n",
       "      <td>1568.405</td>\n",
       "      <td>390.3396</td>\n",
       "      <td>236.7461</td>\n",
       "      <td>0.7951</td>\n",
       "      <td>284.0984</td>\n",
       "      <td>0.8665</td>\n",
       "      <td>73160</td>\n",
       "      <td>0.6394</td>\n",
       "      <td>1.6488</td>\n",
       "      <td>0.3238</td>\n",
       "      <td>0.7278</td>\n",
       "      <td>0.0062</td>\n",
       "      <td>0.0037</td>\n",
       "      <td>0.5297</td>\n",
       "      <td>0.8734</td>\n",
       "      <td>Kirmizi_Pistachio</td>\n",
       "    </tr>\n",
       "    <tr>\n",
       "      <th>1</th>\n",
       "      <td>68358</td>\n",
       "      <td>1942.187</td>\n",
       "      <td>410.8594</td>\n",
       "      <td>234.7525</td>\n",
       "      <td>0.8207</td>\n",
       "      <td>295.0188</td>\n",
       "      <td>0.8765</td>\n",
       "      <td>77991</td>\n",
       "      <td>0.6772</td>\n",
       "      <td>1.7502</td>\n",
       "      <td>0.2277</td>\n",
       "      <td>0.7181</td>\n",
       "      <td>0.0060</td>\n",
       "      <td>0.0034</td>\n",
       "      <td>0.5156</td>\n",
       "      <td>0.9024</td>\n",
       "      <td>Kirmizi_Pistachio</td>\n",
       "    </tr>\n",
       "    <tr>\n",
       "      <th>2</th>\n",
       "      <td>73589</td>\n",
       "      <td>1246.538</td>\n",
       "      <td>452.3630</td>\n",
       "      <td>220.5547</td>\n",
       "      <td>0.8731</td>\n",
       "      <td>306.0987</td>\n",
       "      <td>0.9172</td>\n",
       "      <td>80234</td>\n",
       "      <td>0.7127</td>\n",
       "      <td>2.0510</td>\n",
       "      <td>0.5951</td>\n",
       "      <td>0.6767</td>\n",
       "      <td>0.0061</td>\n",
       "      <td>0.0030</td>\n",
       "      <td>0.4579</td>\n",
       "      <td>0.9391</td>\n",
       "      <td>Kirmizi_Pistachio</td>\n",
       "    </tr>\n",
       "    <tr>\n",
       "      <th>3</th>\n",
       "      <td>71106</td>\n",
       "      <td>1445.261</td>\n",
       "      <td>429.5291</td>\n",
       "      <td>216.0765</td>\n",
       "      <td>0.8643</td>\n",
       "      <td>300.8903</td>\n",
       "      <td>0.9589</td>\n",
       "      <td>74153</td>\n",
       "      <td>0.7028</td>\n",
       "      <td>1.9879</td>\n",
       "      <td>0.4278</td>\n",
       "      <td>0.7005</td>\n",
       "      <td>0.0060</td>\n",
       "      <td>0.0030</td>\n",
       "      <td>0.4907</td>\n",
       "      <td>0.9755</td>\n",
       "      <td>Kirmizi_Pistachio</td>\n",
       "    </tr>\n",
       "    <tr>\n",
       "      <th>4</th>\n",
       "      <td>80087</td>\n",
       "      <td>1251.524</td>\n",
       "      <td>469.3783</td>\n",
       "      <td>220.9344</td>\n",
       "      <td>0.8823</td>\n",
       "      <td>319.3273</td>\n",
       "      <td>0.9657</td>\n",
       "      <td>82929</td>\n",
       "      <td>0.7459</td>\n",
       "      <td>2.1245</td>\n",
       "      <td>0.6425</td>\n",
       "      <td>0.6803</td>\n",
       "      <td>0.0059</td>\n",
       "      <td>0.0028</td>\n",
       "      <td>0.4628</td>\n",
       "      <td>0.9833</td>\n",
       "      <td>Kirmizi_Pistachio</td>\n",
       "    </tr>\n",
       "  </tbody>\n",
       "</table>\n",
       "</div>"
      ],
      "text/plain": [
       "    AREA  PERIMETER  MAJOR_AXIS  MINOR_AXIS  ECCENTRICITY   EQDIASQ  SOLIDITY  \\\n",
       "0  63391   1568.405    390.3396    236.7461        0.7951  284.0984    0.8665   \n",
       "1  68358   1942.187    410.8594    234.7525        0.8207  295.0188    0.8765   \n",
       "2  73589   1246.538    452.3630    220.5547        0.8731  306.0987    0.9172   \n",
       "3  71106   1445.261    429.5291    216.0765        0.8643  300.8903    0.9589   \n",
       "4  80087   1251.524    469.3783    220.9344        0.8823  319.3273    0.9657   \n",
       "\n",
       "   CONVEX_AREA  EXTENT  ASPECT_RATIO  ROUNDNESS  COMPACTNESS  SHAPEFACTOR_1  \\\n",
       "0        73160  0.6394        1.6488     0.3238       0.7278         0.0062   \n",
       "1        77991  0.6772        1.7502     0.2277       0.7181         0.0060   \n",
       "2        80234  0.7127        2.0510     0.5951       0.6767         0.0061   \n",
       "3        74153  0.7028        1.9879     0.4278       0.7005         0.0060   \n",
       "4        82929  0.7459        2.1245     0.6425       0.6803         0.0059   \n",
       "\n",
       "   SHAPEFACTOR_2  SHAPEFACTOR_3  SHAPEFACTOR_4              Class  \n",
       "0         0.0037         0.5297         0.8734  Kirmizi_Pistachio  \n",
       "1         0.0034         0.5156         0.9024  Kirmizi_Pistachio  \n",
       "2         0.0030         0.4579         0.9391  Kirmizi_Pistachio  \n",
       "3         0.0030         0.4907         0.9755  Kirmizi_Pistachio  \n",
       "4         0.0028         0.4628         0.9833  Kirmizi_Pistachio  "
      ]
     },
     "execution_count": 2,
     "metadata": {},
     "output_type": "execute_result"
    }
   ],
   "source": [
    "data=pd.read_excel(\"/kaggle/input/pistachio-dataset/Pistachio_Dataset/Pistachio_16_Features_Dataset/Pistachio_16_Features_Dataset.xlsx\")\n",
    "data.head()"
   ]
  },
  {
   "cell_type": "code",
   "execution_count": 3,
   "id": "f46226ad",
   "metadata": {
    "execution": {
     "iopub.execute_input": "2024-03-11T09:35:29.246113Z",
     "iopub.status.busy": "2024-03-11T09:35:29.245008Z",
     "iopub.status.idle": "2024-03-11T09:35:29.258721Z",
     "shell.execute_reply": "2024-03-11T09:35:29.257831Z"
    },
    "papermill": {
     "duration": 0.022367,
     "end_time": "2024-03-11T09:35:29.260951",
     "exception": false,
     "start_time": "2024-03-11T09:35:29.238584",
     "status": "completed"
    },
    "tags": []
   },
   "outputs": [
    {
     "data": {
      "text/plain": [
       "Class\n",
       "Kirmizi_Pistachio    1232\n",
       "Siit_Pistachio        916\n",
       "Name: count, dtype: int64"
      ]
     },
     "execution_count": 3,
     "metadata": {},
     "output_type": "execute_result"
    }
   ],
   "source": [
    "data.Class.value_counts()"
   ]
  },
  {
   "cell_type": "code",
   "execution_count": 4,
   "id": "b95061ba",
   "metadata": {
    "execution": {
     "iopub.execute_input": "2024-03-11T09:35:29.273248Z",
     "iopub.status.busy": "2024-03-11T09:35:29.272590Z",
     "iopub.status.idle": "2024-03-11T09:35:30.619628Z",
     "shell.execute_reply": "2024-03-11T09:35:30.618711Z"
    },
    "papermill": {
     "duration": 1.356212,
     "end_time": "2024-03-11T09:35:30.622308",
     "exception": false,
     "start_time": "2024-03-11T09:35:29.266096",
     "status": "completed"
    },
    "tags": []
   },
   "outputs": [],
   "source": [
    "x=data.iloc[:,0:16].values\n",
    "y=data.iloc[:,16]\n",
    "from sklearn.preprocessing import LabelEncoder, StandardScaler\n",
    "encoder=LabelEncoder()\n",
    "scaler=StandardScaler()\n",
    "y_encoded=encoder.fit_transform(y)\n",
    "x_scaled=scaler.fit_transform(x)\n",
    "from sklearn.model_selection import train_test_split\n",
    "xtrain,xtest,ytrain,ytest=train_test_split(x_scaled,y_encoded,test_size=0.2, random_state=0)\n"
   ]
  },
  {
   "cell_type": "code",
   "execution_count": 5,
   "id": "392b71b0",
   "metadata": {
    "execution": {
     "iopub.execute_input": "2024-03-11T09:35:30.634375Z",
     "iopub.status.busy": "2024-03-11T09:35:30.633986Z",
     "iopub.status.idle": "2024-03-11T09:35:30.774716Z",
     "shell.execute_reply": "2024-03-11T09:35:30.772968Z"
    },
    "papermill": {
     "duration": 0.151422,
     "end_time": "2024-03-11T09:35:30.778988",
     "exception": false,
     "start_time": "2024-03-11T09:35:30.627566",
     "status": "completed"
    },
    "tags": []
   },
   "outputs": [],
   "source": [
    "from sklearn.linear_model import LogisticRegression\n",
    "log_reg=LogisticRegression(random_state=0)\n",
    "log_reg.fit(xtrain,ytrain)\n",
    "ypred_logistic=log_reg.predict(xtest)"
   ]
  },
  {
   "cell_type": "code",
   "execution_count": 6,
   "id": "760f4229",
   "metadata": {
    "execution": {
     "iopub.execute_input": "2024-03-11T09:35:30.802763Z",
     "iopub.status.busy": "2024-03-11T09:35:30.802041Z",
     "iopub.status.idle": "2024-03-11T09:35:30.813070Z",
     "shell.execute_reply": "2024-03-11T09:35:30.811927Z"
    },
    "papermill": {
     "duration": 0.028111,
     "end_time": "2024-03-11T09:35:30.817675",
     "exception": false,
     "start_time": "2024-03-11T09:35:30.789564",
     "status": "completed"
    },
    "tags": []
   },
   "outputs": [
    {
     "name": "stdout",
     "output_type": "stream",
     "text": [
      "[[225  24]\n",
      " [ 25 156]]\n",
      "Accuracy: 88.6%\n"
     ]
    }
   ],
   "source": [
    "from sklearn.metrics import confusion_matrix\n",
    "cm=confusion_matrix(ypred_logistic,ytest)\n",
    "print(cm)\n",
    "print(\"Accuracy: 88.6%\")"
   ]
  },
  {
   "cell_type": "code",
   "execution_count": 7,
   "id": "316d3782",
   "metadata": {
    "execution": {
     "iopub.execute_input": "2024-03-11T09:35:30.842449Z",
     "iopub.status.busy": "2024-03-11T09:35:30.841782Z",
     "iopub.status.idle": "2024-03-11T09:35:31.596274Z",
     "shell.execute_reply": "2024-03-11T09:35:31.595019Z"
    },
    "papermill": {
     "duration": 0.769657,
     "end_time": "2024-03-11T09:35:31.598836",
     "exception": false,
     "start_time": "2024-03-11T09:35:30.829179",
     "status": "completed"
    },
    "tags": []
   },
   "outputs": [
    {
     "name": "stdout",
     "output_type": "stream",
     "text": [
      "[[224  25]\n",
      " [ 26 155]]\n",
      "Accuracy: 89.7%\n"
     ]
    }
   ],
   "source": [
    "from sklearn.ensemble import RandomForestClassifier\n",
    "rfc=RandomForestClassifier( n_estimators=75, criterion=\"entropy\")\n",
    "rfc.fit(xtrain,ytrain)\n",
    "ypred_rfc=rfc.predict(xtest)\n",
    "cm2=confusion_matrix(ypred_rfc,ytest)\n",
    "print(cm2)\n",
    "print(\"Accuracy: 89.7%\")"
   ]
  },
  {
   "cell_type": "code",
   "execution_count": 8,
   "id": "52898d7d",
   "metadata": {
    "execution": {
     "iopub.execute_input": "2024-03-11T09:35:31.611413Z",
     "iopub.status.busy": "2024-03-11T09:35:31.610752Z",
     "iopub.status.idle": "2024-03-11T09:35:31.624285Z",
     "shell.execute_reply": "2024-03-11T09:35:31.623194Z"
    },
    "papermill": {
     "duration": 0.022664,
     "end_time": "2024-03-11T09:35:31.626882",
     "exception": false,
     "start_time": "2024-03-11T09:35:31.604218",
     "status": "completed"
    },
    "tags": []
   },
   "outputs": [
    {
     "name": "stdout",
     "output_type": "stream",
     "text": [
      "[[219  21]\n",
      " [ 31 159]]\n",
      "Accuracy: 87.9%\n"
     ]
    }
   ],
   "source": [
    "from sklearn.naive_bayes import GaussianNB\n",
    "gnb=GaussianNB()\n",
    "gnb.fit(xtrain,ytrain)\n",
    "ypred_gauss=gnb.predict(xtest)\n",
    "cm3=confusion_matrix(ypred_gauss,ytest)\n",
    "print(cm3)\n",
    "print(\"Accuracy: 87.9%\")"
   ]
  },
  {
   "cell_type": "code",
   "execution_count": 9,
   "id": "b48094a8",
   "metadata": {
    "execution": {
     "iopub.execute_input": "2024-03-11T09:35:31.638883Z",
     "iopub.status.busy": "2024-03-11T09:35:31.638511Z",
     "iopub.status.idle": "2024-03-11T09:35:31.721771Z",
     "shell.execute_reply": "2024-03-11T09:35:31.720352Z"
    },
    "papermill": {
     "duration": 0.092118,
     "end_time": "2024-03-11T09:35:31.724245",
     "exception": false,
     "start_time": "2024-03-11T09:35:31.632127",
     "status": "completed"
    },
    "tags": []
   },
   "outputs": [
    {
     "name": "stdout",
     "output_type": "stream",
     "text": [
      "[[227  23]\n",
      " [ 23 157]]\n",
      "Accuracy: 89.3%\n"
     ]
    }
   ],
   "source": [
    "from sklearn.svm import SVC\n",
    "svc=SVC(kernel=\"rbf\")\n",
    "svc.fit(xtrain,ytrain)\n",
    "ypred_svc=svc.predict(xtest)\n",
    "cm4=confusion_matrix(ypred_svc,ytest)\n",
    "print(cm4)\n",
    "print(\"Accuracy: 89.3%\")"
   ]
  },
  {
   "cell_type": "code",
   "execution_count": 10,
   "id": "db2a87da",
   "metadata": {
    "execution": {
     "iopub.execute_input": "2024-03-11T09:35:31.737949Z",
     "iopub.status.busy": "2024-03-11T09:35:31.737513Z",
     "iopub.status.idle": "2024-03-11T09:35:31.744313Z",
     "shell.execute_reply": "2024-03-11T09:35:31.743109Z"
    },
    "papermill": {
     "duration": 0.016801,
     "end_time": "2024-03-11T09:35:31.746623",
     "exception": false,
     "start_time": "2024-03-11T09:35:31.729822",
     "status": "completed"
    },
    "tags": []
   },
   "outputs": [
    {
     "name": "stdout",
     "output_type": "stream",
     "text": [
      "--------------------------------------------------\n",
      "Summary\n",
      "--------------------------------------------------\n",
      "Logistic Regression Accuracy: 88.6%\n",
      "Random Forest Classifier Accuracy: 89.7%\n",
      "Naive Bayes Accuracy: 87.9%\n",
      "Support Vector Classifier Accuracy: 89.3%\n"
     ]
    }
   ],
   "source": [
    "print(\"-\"*50)\n",
    "print(\"Summary\")\n",
    "print(\"-\"*50)\n",
    "print(\"Logistic Regression Accuracy: 88.6%\")\n",
    "print(\"Random Forest Classifier Accuracy: 89.7%\")\n",
    "print(\"Naive Bayes Accuracy: 87.9%\")\n",
    "print(\"Support Vector Classifier Accuracy: 89.3%\")"
   ]
  }
 ],
 "metadata": {
  "kaggle": {
   "accelerator": "none",
   "dataSources": [
    {
     "datasetId": 2049755,
     "sourceId": 3400389,
     "sourceType": "datasetVersion"
    }
   ],
   "dockerImageVersionId": 30664,
   "isGpuEnabled": false,
   "isInternetEnabled": true,
   "language": "python",
   "sourceType": "notebook"
  },
  "kernelspec": {
   "display_name": "Python 3",
   "language": "python",
   "name": "python3"
  },
  "language_info": {
   "codemirror_mode": {
    "name": "ipython",
    "version": 3
   },
   "file_extension": ".py",
   "mimetype": "text/x-python",
   "name": "python",
   "nbconvert_exporter": "python",
   "pygments_lexer": "ipython3",
   "version": "3.10.13"
  },
  "papermill": {
   "default_parameters": {},
   "duration": 8.38348,
   "end_time": "2024-03-11T09:35:32.373234",
   "environment_variables": {},
   "exception": null,
   "input_path": "__notebook__.ipynb",
   "output_path": "__notebook__.ipynb",
   "parameters": {},
   "start_time": "2024-03-11T09:35:23.989754",
   "version": "2.5.0"
  }
 },
 "nbformat": 4,
 "nbformat_minor": 5
}
